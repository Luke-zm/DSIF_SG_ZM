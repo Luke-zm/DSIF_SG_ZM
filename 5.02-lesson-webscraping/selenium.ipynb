{
 "cells": [
  {
   "cell_type": "markdown",
   "id": "e42d80da-7228-46ba-8287-9dff01c6afc5",
   "metadata": {},
   "source": [
    "# Selenium\n",
    "Selenium automates browsers. Read more documentation on https://www.selenium.de.\n",
    "To run selenium, you will need to download a driver from https://www.selenium.dev/downloads/ base on operating system and browser type"
   ]
  },
  {
   "cell_type": "code",
   "execution_count": 39,
   "id": "eb3e44ed-0b2e-4ec6-a90c-16afa631928e",
   "metadata": {},
   "outputs": [],
   "source": [
    "import selenium\n",
    "from selenium.webdriver.common.by import By\n",
    "import pandas as pd\n",
    "from bs4 import BeautifulSoup\n",
    "from selenium import webdriver"
   ]
  },
  {
   "cell_type": "markdown",
   "id": "f9822404-72ff-4948-a052-32af1cad7600",
   "metadata": {},
   "source": [
    "## Starting a web driver"
   ]
  },
  {
   "cell_type": "code",
   "execution_count": 4,
   "id": "142c548c-7511-4c85-bd83-c05a6b599380",
   "metadata": {},
   "outputs": [],
   "source": [
    "driver = webdriver.Chrome()\n",
    "\n",
    "driver.get(\"http://selenium.dev\")\n",
    "\n",
    "# driver.quit()"
   ]
  },
  {
   "cell_type": "markdown",
   "id": "fcfddc0a-8871-40da-b695-881d3bae6b4a",
   "metadata": {},
   "source": [
    "## Finding element using Selenium"
   ]
  },
  {
   "cell_type": "code",
   "execution_count": 8,
   "id": "fca66618-958a-4ae9-a3f3-dac2a83cde10",
   "metadata": {},
   "outputs": [],
   "source": [
    "searchbox = driver.find_element(by='xpath', value='/html/body/div[1]/div[3]/form/div[1]/div[1]/div[1]/div/div[2]/input')"
   ]
  },
  {
   "cell_type": "markdown",
   "id": "06950d6d-0669-4553-bb12-13fcb1b53625",
   "metadata": {
    "tags": []
   },
   "source": [
    "## Interacting with elements"
   ]
  },
  {
   "cell_type": "code",
   "execution_count": 10,
   "id": "c3d7c293-9078-4d2b-96b4-249c01769e3d",
   "metadata": {},
   "outputs": [],
   "source": [
    "searchbox.send_keys('apple')"
   ]
  },
  {
   "cell_type": "code",
   "execution_count": 11,
   "id": "3879151d-ffdd-476f-97dc-808772fa5831",
   "metadata": {},
   "outputs": [],
   "source": [
    "searchbox.clear()"
   ]
  },
  {
   "cell_type": "code",
   "execution_count": 12,
   "id": "463187d3-0107-460d-b6ec-29b0c4c9c526",
   "metadata": {},
   "outputs": [],
   "source": [
    "searchbox.send_keys('apple')"
   ]
  },
  {
   "cell_type": "code",
   "execution_count": 13,
   "id": "a517d7b2-d475-4d33-88b7-c42819805fab",
   "metadata": {},
   "outputs": [],
   "source": [
    "searchbox.submit()"
   ]
  },
  {
   "cell_type": "markdown",
   "id": "d03aa13d-426a-4649-b150-c2004980a2e3",
   "metadata": {},
   "source": [
    "## Crawler example"
   ]
  },
  {
   "cell_type": "code",
   "execution_count": 42,
   "id": "48f5ca93-c6cd-46a1-89bf-cdecc5481b56",
   "metadata": {},
   "outputs": [
    {
     "name": "stdout",
     "output_type": "stream",
     "text": [
      "CPU times: user 143 ms, sys: 8.09 ms, total: 151 ms\n",
      "Wall time: 5.18 s\n"
     ]
    },
    {
     "data": {
      "text/html": [
       "<div>\n",
       "<style scoped>\n",
       "    .dataframe tbody tr th:only-of-type {\n",
       "        vertical-align: middle;\n",
       "    }\n",
       "\n",
       "    .dataframe tbody tr th {\n",
       "        vertical-align: top;\n",
       "    }\n",
       "\n",
       "    .dataframe thead th {\n",
       "        text-align: right;\n",
       "    }\n",
       "</style>\n",
       "<table border=\"1\" class=\"dataframe\">\n",
       "  <thead>\n",
       "    <tr style=\"text-align: right;\">\n",
       "      <th></th>\n",
       "      <th>0</th>\n",
       "      <th>1</th>\n",
       "    </tr>\n",
       "  </thead>\n",
       "  <tbody>\n",
       "    <tr>\n",
       "      <th>0</th>\n",
       "      <td>“The world as we have created it is a process ...</td>\n",
       "      <td>Albert Einstein</td>\n",
       "    </tr>\n",
       "    <tr>\n",
       "      <th>1</th>\n",
       "      <td>“It is our choices, Harry, that show what we t...</td>\n",
       "      <td>J.K. Rowling</td>\n",
       "    </tr>\n",
       "    <tr>\n",
       "      <th>2</th>\n",
       "      <td>“There are only two ways to live your life. On...</td>\n",
       "      <td>Albert Einstein</td>\n",
       "    </tr>\n",
       "    <tr>\n",
       "      <th>3</th>\n",
       "      <td>“The person, be it gentleman or lady, who has ...</td>\n",
       "      <td>Jane Austen</td>\n",
       "    </tr>\n",
       "    <tr>\n",
       "      <th>4</th>\n",
       "      <td>“Imperfection is beauty, madness is genius and...</td>\n",
       "      <td>Marilyn Monroe</td>\n",
       "    </tr>\n",
       "    <tr>\n",
       "      <th>...</th>\n",
       "      <td>...</td>\n",
       "      <td>...</td>\n",
       "    </tr>\n",
       "    <tr>\n",
       "      <th>95</th>\n",
       "      <td>“You never really understand a person until yo...</td>\n",
       "      <td>Harper Lee</td>\n",
       "    </tr>\n",
       "    <tr>\n",
       "      <th>96</th>\n",
       "      <td>“You have to write the book that wants to be w...</td>\n",
       "      <td>Madeleine L'Engle</td>\n",
       "    </tr>\n",
       "    <tr>\n",
       "      <th>97</th>\n",
       "      <td>“Never tell the truth to people who are not wo...</td>\n",
       "      <td>Mark Twain</td>\n",
       "    </tr>\n",
       "    <tr>\n",
       "      <th>98</th>\n",
       "      <td>“A person's a person, no matter how small.”</td>\n",
       "      <td>Dr. Seuss</td>\n",
       "    </tr>\n",
       "    <tr>\n",
       "      <th>99</th>\n",
       "      <td>“... a mind needs books as a sword needs a whe...</td>\n",
       "      <td>George R.R. Martin</td>\n",
       "    </tr>\n",
       "  </tbody>\n",
       "</table>\n",
       "<p>100 rows × 2 columns</p>\n",
       "</div>"
      ],
      "text/plain": [
       "                                                    0                   1\n",
       "0   “The world as we have created it is a process ...     Albert Einstein\n",
       "1   “It is our choices, Harry, that show what we t...        J.K. Rowling\n",
       "2   “There are only two ways to live your life. On...     Albert Einstein\n",
       "3   “The person, be it gentleman or lady, who has ...         Jane Austen\n",
       "4   “Imperfection is beauty, madness is genius and...      Marilyn Monroe\n",
       "..                                                ...                 ...\n",
       "95  “You never really understand a person until yo...          Harper Lee\n",
       "96  “You have to write the book that wants to be w...   Madeleine L'Engle\n",
       "97  “Never tell the truth to people who are not wo...          Mark Twain\n",
       "98        “A person's a person, no matter how small.”           Dr. Seuss\n",
       "99  “... a mind needs books as a sword needs a whe...  George R.R. Martin\n",
       "\n",
       "[100 rows x 2 columns]"
      ]
     },
     "execution_count": 42,
     "metadata": {},
     "output_type": "execute_result"
    }
   ],
   "source": [
    "%%time\n",
    "# start at quotes.toscrape.com\n",
    "url = \"https://quotes.toscrape.com/\"\n",
    "# driver = webdriver.Chrome()\n",
    "driver.get(url)\n",
    "# login \n",
    "login_button = driver.find_element(by='xpath', value = '/html/body/div/div[1]/div[2]/p/a')\n",
    "login_button.click()\n",
    "## key in username, key in password\n",
    "username_input = driver.find_element(by='xpath', value = '//*[@id=\"username\"]')\n",
    "username_input.send_keys('dsif9')\n",
    "password_input = driver.find_element(by='xpath', value = '//*[@id=\"password\"]')\n",
    "password_input.send_keys('password')\n",
    "## login \n",
    "submit_login = driver.find_element(by='xpath', value = '/html/body/div/form/input[2]')\n",
    "submit_login.click()\n",
    "# main page\n",
    "results = []\n",
    "while True:\n",
    "    html = driver.page_source\n",
    "    soup = BeautifulSoup(html, 'lxml')\n",
    "    ## scrape all the quotes and their author\n",
    "    quotes = soup.find_all('span', {'class': 'text'})\n",
    "    authors = soup.find_all('small', {'class': 'author'})\n",
    "    for q,a in zip(quotes, authors):\n",
    "        results.append([q.text,a.text])\n",
    "    ## scroll down\n",
    "    driver.execute_script('scroll(0, 2000);')\n",
    "    ## click next button\n",
    "    ## repeat until reach the last page\n",
    "    try:\n",
    "        next_button = driver.find_element(By.CLASS_NAME, value = 'next')\n",
    "        next_button.find_element(By.TAG_NAME, value='a').click()\n",
    "    except:\n",
    "        break\n",
    "## save all the quotes into a Pandas dataframe\n",
    "pd.DataFrame(results)\n",
    "# close driver\n",
    "driver.quit()"
   ]
  },
  {
   "cell_type": "markdown",
   "id": "c7fae17f-ee31-4415-a579-1cdd269bcfbd",
   "metadata": {},
   "source": [
    "# Use cases using Selenium \n",
    "- venue bookings (SAFRA, OCBC Arena, etc...)\n",
    "- lookout for deals on Carousell, Shopee, etc...\n",
    "- snatching of deals on flash sales, concerts, limited stocks... "
   ]
  }
 ],
 "metadata": {
  "kernelspec": {
   "display_name": "Python 3 (ipykernel)",
   "language": "python",
   "name": "python3"
  },
  "language_info": {
   "codemirror_mode": {
    "name": "ipython",
    "version": 3
   },
   "file_extension": ".py",
   "mimetype": "text/x-python",
   "name": "python",
   "nbconvert_exporter": "python",
   "pygments_lexer": "ipython3",
   "version": "3.9.12"
  }
 },
 "nbformat": 4,
 "nbformat_minor": 5
}
