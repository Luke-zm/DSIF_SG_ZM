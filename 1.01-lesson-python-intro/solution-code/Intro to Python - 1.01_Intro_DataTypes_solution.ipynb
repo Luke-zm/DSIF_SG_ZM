{
 "cells": [
  {
   "cell_type": "markdown",
   "metadata": {},
   "source": [
    "#### 1. Our First Jupyter Cell"
   ]
  },
  {
   "cell_type": "code",
   "execution_count": null,
   "metadata": {},
   "outputs": [],
   "source": [
    "# Select this cell and execute it by clicking run or using the shortcut, ctrl + enter\n",
    "# This will display the \"Zen of Python,\" describing the philosophy behind python\n",
    "import this"
   ]
  },
  {
   "cell_type": "markdown",
   "metadata": {},
   "source": [
    "#### 2. Introduce Yourself"
   ]
  },
  {
   "cell_type": "code",
   "execution_count": null,
   "metadata": {},
   "outputs": [],
   "source": [
    "# Define the variables greeting, name, and mood, and assign them string-type values\n",
    "# Then, execute this cell to see an introduction message printed to the console\n",
    "greeting = \"Whasaaaap party people\"\n",
    "name = \"Hugh Mann\"\n",
    "mood = \"frozen with joy right where I stand\"\n",
    "print(greeting + \", my name is \" + name + \" and I am \" + mood + \" about learning python.\")"
   ]
  },
  {
   "cell_type": "markdown",
   "metadata": {},
   "source": [
    "#### 3. Operators and Updating Variables"
   ]
  },
  {
   "cell_type": "code",
   "execution_count": null,
   "metadata": {
    "scrolled": true
   },
   "outputs": [],
   "source": [
    "# Define numeric variables for the month and day of your birthdate to be used whenever requested\n",
    "month = 6\n",
    "day = 2\n",
    "# Write a new line of code beneath each comment, always updating the birthdate variable as you do so\n",
    "birthdate = 7\n",
    "# Multiply by the month \n",
    "birthdate = birthdate * month\n",
    "# Subtract 1\n",
    "birthdate -= 1\n",
    "# Multiply by 13\n",
    "birthdate *= 13\n",
    "# Add the day of your birth\n",
    "birthdate += day\n",
    "# Add 3\n",
    "birthdate = birthdate + 3\n",
    "# Multiply by 11\n",
    "birthdate *= 11\n",
    "# Subtract the month of your birth\n",
    "birthdate -= month\n",
    "# Subtract the day of your birth\n",
    "birthdate -= day\n",
    "# Divide by 10\n",
    "birthdate /= 10\n",
    "# Add 11\n",
    "birthdate += 11\n",
    "# Divide by 100\n",
    "birthdate /= 100\n",
    "# birthdate should now be a floating point number with the day.month of your birthday\n",
    "print(birthdate)"
   ]
  },
  {
   "cell_type": "markdown",
   "metadata": {},
   "source": [
    "#### 4. Python Mad Libs\n",
    "Create a Mad Libs style game using string concatenation or the \"f-string\" style string interpolation.\n",
    "First, define at least 7 variables with names such as adjective_one or noun_three.\n",
    "Then, plug those variables into a long string that tells a story using those variables."
   ]
  },
  {
   "cell_type": "code",
   "execution_count": null,
   "metadata": {},
   "outputs": [],
   "source": [
    "\n",
    "adjective_one = \"fuzzy\"\n",
    "adjective_two = \"preposterous\"\n",
    "adjective_three = \"slippery\"\n",
    "noun_one = \"salad tongs\"\n",
    "noun_two = \"ancestral sword\"\n",
    "verb_one = \"pounced\"\n",
    "verb_two = \"roasted\"\n",
    "\n",
    "first_day_at_camp = f\"When I was 9, my parents sent me to Camp {noun_one} by the shores of {adjective_one} Lake. The {adjective_two} counselors gave us {noun_two}s to play with, and we {verb_one} and {verb_two} in the Lake all day. It was a {adjective_three} summer I will never forget\""
   ]
  },
  {
   "cell_type": "markdown",
   "metadata": {},
   "source": [
    "#### 5. Code Fast and Break Things\n",
    "Each of the following blocks of code is mistaken in some way.\n",
    "Either they contain errors or don't do what the user would expect them to.\n",
    "Correct each example, and write a comment explaining what went wrong."
   ]
  },
  {
   "cell_type": "code",
   "execution_count": null,
   "metadata": {},
   "outputs": [],
   "source": [
    "# A.\n",
    "my_variable = \"Hello\"\n",
    "print(my_variable)\n",
    "# The variable had no value, so nothing printed"
   ]
  },
  {
   "cell_type": "code",
   "execution_count": null,
   "metadata": {},
   "outputs": [],
   "source": [
    "# B.\n",
    "# Why didn't it print ten?\n",
    "my_number = 5\n",
    "my_number += 5\n",
    "print(my_number)\n",
    "# We needed to re-assign the value using the assignment operator, ="
   ]
  },
  {
   "cell_type": "code",
   "execution_count": null,
   "metadata": {},
   "outputs": [],
   "source": [
    "# C.\n",
    "my_num = 5\n",
    "my_string = \"Hello\"\n",
    "print(str(my_num) + my_string)\n",
    "# We can use typecasting to ensure both data types match as needed"
   ]
  },
  {
   "cell_type": "code",
   "execution_count": null,
   "metadata": {},
   "outputs": [],
   "source": [
    "# D.\n",
    "# The user expected the result to be 30!\n",
    "my_num1 = \"10\"\n",
    "my_num2 = \"20\"\n",
    "print(int(my_num1) + int(my_num2))\n",
    "# We could also have changed the original definitions to not use quotes! "
   ]
  },
  {
   "cell_type": "code",
   "execution_count": null,
   "metadata": {},
   "outputs": [],
   "source": [
    "# E.\n",
    "# The user expected the message to read \"I enjoy python in the morning.\"\n",
    "language = \"python\"\n",
    "print(f\"I enjoy {language} in the morning\")\n",
    "# We were missing the brackets around the variable name"
   ]
  },
  {
   "cell_type": "code",
   "execution_count": null,
   "metadata": {},
   "outputs": [],
   "source": [
    "# F.\n",
    "# The user expected the message to read \"There are 2 plums at home for me\"\n",
    "number_of_plums = 2\n",
    "who_plums_are_for = \"me\"\n",
    "print(\"There are \" + number_of_plums + \" plums at home for \" + who_plums_are_for)\n",
    "# We needed quotes around the string, otherwise python considers it a variable name"
   ]
  },
  {
   "cell_type": "markdown",
   "metadata": {},
   "source": [
    "#### 6. How many ways to print with variables\n",
    "Programming provides many ways of doing the same thing.\n",
    "We've learned about concatenation and f-string interpolation so far.\n",
    "Below, research and demonstrate four different ways of including variables in a string in python.\n",
    "You don't need to understand exactly how they're working to get them to work!"
   ]
  },
  {
   "cell_type": "code",
   "execution_count": null,
   "metadata": {
    "scrolled": true
   },
   "outputs": [],
   "source": [
    "day = \"Monday\"\n",
    "print(day + \" is the best day of the week\")\n",
    "print(f\"{day} is the best day of the week\")\n",
    "print(\"%s is the best day of the week\" %day)\n",
    "print(\"{} is the best day of the week\".format(day))"
   ]
  },
  {
   "cell_type": "markdown",
   "metadata": {},
   "source": [
    "#### 7. Colors of the Rainbow"
   ]
  },
  {
   "cell_type": "code",
   "execution_count": 2,
   "metadata": {},
   "outputs": [
    {
     "name": "stdout",
     "output_type": "stream",
     "text": [
      "The colors of the rainbow are red, orange, yellow, green, blue, indigo, and violet\n",
      "Hey kids! Try our newest crayon colors, Racecar Red and Moody Indigo!\n",
      "['Racecar Red', 'orange', 'yellow', 'green', 'blue', 'Moody Indigo', 'violet']\n"
     ]
    }
   ],
   "source": [
    "# A. Make a list called colors that stores 7 strings, each a color of the rainbow\n",
    "colors = [\"red\", \"orange\", \"yellow\", \"green\", \"blue\", \"indigo\", \"violet\"]\n",
    "# B. Then, print the following string, using list indices to access the specific colors:\n",
    "# \"The colors of the rainbow are red, orange, yellow, green, blue, indigo, and violet\"\n",
    "#  String concatenation might get a bit complex to read: try using an f-string for string interpolation!\n",
    "print(f\"The colors of the rainbow are {colors[0]}, {colors[1]}, {colors[2]}, {colors[3]}, {colors[4]}, {colors[5]}, and {colors[6]}\")\n",
    "# C. Change two of the colors to more descriptive names, such as \"Lightning Yellow\" or \"Deep Sea Blue\"\n",
    "colors[0] = \"Racecar Red\"\n",
    "colors[5] = \"Moody Indigo\"\n",
    "# D. Print the two new color names using list indices to access them\n",
    "print(f\"Hey kids! Try our newest crayon colors, {colors[0]} and {colors[5]}!\")\n",
    "# E. Print the colors variable to see the difference between printing a specific item and printing the list itself\n",
    "print(colors)"
   ]
  },
  {
   "cell_type": "markdown",
   "metadata": {},
   "source": [
    "#### 8. The Wait List\n",
    "You will have to research some new methods to use for these challenges.\n",
    "You can use print statements to investigate whether your changes have succeeded as expected."
   ]
  },
  {
   "cell_type": "code",
   "execution_count": null,
   "metadata": {},
   "outputs": [],
   "source": [
    "candidates = [\"Alice\", \"Boris\", \"Carmen\"]\n",
    "\n",
    "# A. A promising new applicant, Diego, needs to be added to the end of the list\n",
    "candidates.append(\"Diego\")\n",
    "# B. Alice has informed us of a typo on their application: change their name to \"Alyce\"\n",
    "candidates[0] = \"Alyce\"\n",
    "# C. One of our generous donors has a nephew, Aaron, who should be added to the very front of the list\n",
    "candidates.insert(0,\"Aaron\")\n",
    "# D. Boris's parents are concerned. Use the .index() method to print a message explaining Boris's place in the list\n",
    "print(f\"Boris is currently at index {candidates.index('Boris')} in the list\")\n",
    "# E. Carmen is upset by the priority given to relatives of donors, and has withdrawn their application.\n",
    "#    Use the .remove() method to remove them from the list.\n",
    "candidates.remove(\"Carmen\")\n",
    "# F. Use a method to remove the very first student in the list, as they have now been accepted!\n",
    "candidates.pop(0)\n",
    "# G. DeSean has submitted an impressive personal statement. Place them at index 1 by using .insert()\n",
    "candidates.insert(1, \"DeSean\")\n",
    "# H. We've been audited by the Board for Educational Fairness! Print the list of candidates.\n",
    "#    It should look like this: [\"Alyce\", \"DeSean\", Boris\", \"Diego\"]\n",
    "print(candidates)"
   ]
  },
  {
   "cell_type": "markdown",
   "metadata": {
    "scrolled": true
   },
   "source": [
    "#### 9. Key Value Properties\n",
    "Use the house dictionary for the following challenges"
   ]
  },
  {
   "cell_type": "code",
   "execution_count": null,
   "metadata": {
    "scrolled": true
   },
   "outputs": [],
   "source": [
    "house = { \"address\": \"123 Fake Street\", \"price\": 750000, \"bedrooms\": 3}\n",
    "\n",
    "# A. Buyers can't find the house without a zip code! Add a zip_code property equal to \"95404\"\n",
    "house[\"zip_code\"] = \"95404\"\n",
    "# B. Our web designers want a statement reading: \"This 3 bedroom house costs 250000\"\n",
    "#    Print that statement by accessing the values from the dictionary: do NOT \"hard-code\" the string!\n",
    "print(f\"This {house['bedrooms']} bedroom house costs {house['price']}\")\n",
    "# C. We're getting a lot of interest in the house! Let's increase the price by 10%\n",
    "house[\"price\"] = house[\"price\"] + house[\"price\"] / 10\n",
    "# D. Buyers are surprised at how small the house is. Let's add a square_feet property equal to 750\n",
    "house[\"square_feet\"] = 750\n",
    "# E. We want to show off the value per foot. Print a message explaining the price per square foot.\n",
    "print(f\"This cozy home offers great value at only ${house['price']/house['square_feet']} per square foot!\")\n",
    "# F. After 2 long hours on the market, the house has finally sold! Add a status property equal to \"sold\"\n",
    "house[\"status\"] = \"sold\"\n",
    "# G. Print the entire listing. You should see a dictionary similar to the following:\n",
    "# {address: \"123 Fake Street\", price: 825000, bedrooms: 3, zip_code: \"95404\" square_feet: 750, status: \"sold\"}\n",
    "print(house)"
   ]
  },
  {
   "cell_type": "markdown",
   "metadata": {},
   "source": [
    "#### 10. Python Librarian"
   ]
  },
  {
   "cell_type": "code",
   "execution_count": null,
   "metadata": {},
   "outputs": [],
   "source": [
    "authors = {\n",
    "    \"Arundhati Roy\": {\n",
    "        \"genre\": \"literary fiction\",\n",
    "        \"books\": [\n",
    "            \"The God of Small Things\",\n",
    "            \"The Ministry of Utmost Happiness\"\n",
    "        ],\n",
    "        \"active\": True\n",
    "    },\n",
    "    \"Brandon Sanderson\": {\n",
    "        \"genre\": \"fantasy\",\n",
    "        \"books\": [\n",
    "            \"The Way of Kings\",\n",
    "            \"Words of Radiance\",\n",
    "            \"Oathbringer\"\n",
    "        ],\n",
    "        \"active\": True,\n",
    "        \"phone\": {\n",
    "            \"home\": \"(281) 330-8004\",\n",
    "            \"work\": \"(877) CASH-NOW\"\n",
    "        }\n",
    "    },\n",
    "    \"Kobo Abe\": {\n",
    "        \"genre\": \"absurdist fiction\",\n",
    "        \"books\": [\n",
    "            \"The Woman in the Dunes\",\n",
    "            \"The Face of Another\"\n",
    "        ],\n",
    "        \"active\": False\n",
    "    },\n",
    "}"
   ]
  },
  {
   "cell_type": "code",
   "execution_count": null,
   "metadata": {},
   "outputs": [],
   "source": [
    "# A. Access and print Arundhati Roy's first book\n",
    "print(authors[\"Arundhati Roy\"][\"books\"][0])"
   ]
  },
  {
   "cell_type": "code",
   "execution_count": null,
   "metadata": {},
   "outputs": [],
   "source": [
    "# B. We need to contact Brandon at work: access and print their work phone number\n",
    "print(authors[\"Brandon Sanderson\"][\"phone\"][\"work\"])"
   ]
  },
  {
   "cell_type": "code",
   "execution_count": null,
   "metadata": {},
   "outputs": [],
   "source": [
    "# C. Create a list composed of all the genres available in our library\n",
    "genres = []\n",
    "genres.append(authors[\"Arundhati Roy\"][\"genre\"])\n",
    "genres.append(authors[\"Brandon Sanderson\"][\"genre\"])\n",
    "genres.append(authors[\"Kobo Abe\"][\"genre\"])"
   ]
  },
  {
   "cell_type": "code",
   "execution_count": null,
   "metadata": {},
   "outputs": [],
   "source": [
    "# D. Create a list of all books available in our library\n",
    "books = []\n",
    "books.append(authors[\"Arundhati Roy\"][\"books\"][0])\n",
    "books.append(authors[\"Arundhati Roy\"][\"books\"][1])\n",
    "books.append(authors[\"Brandon Sanderson\"][\"books\"][0])\n",
    "books.append(authors[\"Brandon Sanderson\"][\"books\"][1])\n",
    "books.append(authors[\"Brandon Sanderson\"][\"books\"][2])\n",
    "books.append(authors[\"Kobo Abe\"][\"books\"][0])\n",
    "books.append(authors[\"Kobo Abe\"][\"books\"][1])"
   ]
  },
  {
   "cell_type": "code",
   "execution_count": null,
   "metadata": {},
   "outputs": [],
   "source": [
    "# E. Arundhati has decided to expand their range of genres and tackle non-fiction\n",
    "#    Modify their \"genre\" property to now be a list that also includes non-fiction\n",
    "authors[\"Arundhati Roy\"][\"genre\"] = [\"literary fiction\", \"non-fiction\"] "
   ]
  },
  {
   "cell_type": "code",
   "execution_count": null,
   "metadata": {},
   "outputs": [],
   "source": [
    "# F. Brandon Sanderson is retiring. Change their active property to False.\n",
    "#    BONUS: This means we should no longer contact them. Delete their \"phone\" property\n",
    "authors[\"Brandon Sanderson\"][\"active\"] = False\n",
    "del authors[\"Brandon Sanderson\"][\"phone\"]"
   ]
  },
  {
   "cell_type": "code",
   "execution_count": null,
   "metadata": {},
   "outputs": [],
   "source": [
    "# G. Add a new author to our collection of your choice. Make sure they have:\n",
    "#    i. A genre property equal to a string or list of strings\n",
    "#    ii. A books property equal to a list of strings\n",
    "#    iii. An active property equal to a boolean\n",
    "#    iv. Another property that is also a dictionary with one or more properties\n",
    "authors[\"Nikolai Gogol\"] = {\n",
    "    \"genre\": \"Russian Literature\",\n",
    "    \"books\": [\"Dead Souls\", \"The Overcoat\", \"Government Inspector\"],\n",
    "    \"active\": False,\n",
    "    \"popular_characters\": {\n",
    "        \"Khlestakov\": \"A poser\",\n",
    "        \"Chichikov\": \"A swindler\",\n",
    "        \"Akaky Akakeivich\": \"An innocent victim, brother to all mankind\"\n",
    "    }\n",
    "}"
   ]
  },
  {
   "cell_type": "code",
   "execution_count": null,
   "metadata": {},
   "outputs": [],
   "source": [
    "k={my_dict[x]['name']:my_dict[x]['city'] for x in range(3)}\n",
    "print (k)\n",
    "\n",
    "{k:v for k,v in range(3)}"
   ]
  },
  {
   "cell_type": "code",
   "execution_count": 4,
   "metadata": {},
   "outputs": [],
   "source": [
    "mydict = {'key1' : 'value1', 'key2' : 'value 2', 'key3' : 'value 3'}"
   ]
  },
  {
   "cell_type": "code",
   "execution_count": 8,
   "metadata": {},
   "outputs": [
    {
     "ename": "SyntaxError",
     "evalue": "cannot assign to function call (<ipython-input-8-fbb8ac1ec1ad>, line 1)",
     "output_type": "error",
     "traceback": [
      "\u001b[1;36m  File \u001b[1;32m\"<ipython-input-8-fbb8ac1ec1ad>\"\u001b[1;36m, line \u001b[1;32m1\u001b[0m\n\u001b[1;33m    {k:v for mydict.items() in range(3)}\u001b[0m\n\u001b[1;37m             ^\u001b[0m\n\u001b[1;31mSyntaxError\u001b[0m\u001b[1;31m:\u001b[0m cannot assign to function call\n"
     ]
    }
   ],
   "source": [
    "{k:v for mydict.items() in range(3)}"
   ]
  },
  {
   "cell_type": "code",
   "execution_count": 12,
   "metadata": {},
   "outputs": [
    {
     "data": {
      "text/plain": [
       "{'key1': 'value1', 'key2': 'value 2', 'key3': 'value 3'}"
      ]
     },
     "execution_count": 12,
     "metadata": {},
     "output_type": "execute_result"
    }
   ],
   "source": [
    "{k:v for (k,v) in mydict.items()}"
   ]
  },
  {
   "cell_type": "code",
   "execution_count": 26,
   "metadata": {},
   "outputs": [
    {
     "name": "stdout",
     "output_type": "stream",
     "text": [
      "x: 72, y:32\n"
     ]
    }
   ],
   "source": [
    "x = 0\n",
    "y_test = 104 - x\n",
    "count = 1\n",
    "\n",
    "\n",
    "for i in range(104):\n",
    "    if y_test - x == 32:\n",
    "        y = 104 - x\n",
    "        print(f'x: {x}, y:{y}')\n",
    "        break\n",
    "    else:\n",
    "        x+=1\n",
    "        count+=1"
   ]
  },
  {
   "cell_type": "code",
   "execution_count": null,
   "metadata": {},
   "outputs": [],
   "source": []
  }
 ],
 "metadata": {
  "kernelspec": {
   "display_name": "Python 3",
   "language": "python",
   "name": "python3"
  },
  "language_info": {
   "codemirror_mode": {
    "name": "ipython",
    "version": 3
   },
   "file_extension": ".py",
   "mimetype": "text/x-python",
   "name": "python",
   "nbconvert_exporter": "python",
   "pygments_lexer": "ipython3",
   "version": "3.8.5"
  },
  "toc": {
   "base_numbering": 1,
   "nav_menu": {},
   "number_sections": false,
   "sideBar": true,
   "skip_h1_title": false,
   "title_cell": "Table of Contents",
   "title_sidebar": "Contents",
   "toc_cell": false,
   "toc_position": {},
   "toc_section_display": true,
   "toc_window_display": false
  }
 },
 "nbformat": 4,
 "nbformat_minor": 4
}
