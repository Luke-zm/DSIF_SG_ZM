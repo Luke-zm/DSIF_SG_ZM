{
 "cells": [
  {
   "cell_type": "markdown",
   "metadata": {},
   "source": [
    "<H1>Task3</H1><br>Write a function solution that, given an integer N, returns the maximum possible value obtained by inserting one '5' digit inside the decmial representation of integer N. <br> <H2>Examples:</H2><br> 1. Given N = 268, the function should return 5268 <br><br> 2. Given N =670, the function should return 6750. <br><br>3. Given N = 0, the function should return 50. <br><br> 4. Given N = -999, the function should return -5999. <br><br> Assume that: <br><br> N is an integer within the range -8000 to 8000. <br><br> In your solution, focus on correctness. The performance of your solution will not be the focus of the assessment."
   ]
  },
  {
   "cell_type": "code",
   "execution_count": 88,
   "metadata": {},
   "outputs": [],
   "source": [
    "def insert5(nums):\n",
    "    num_string = str(nums)\n",
    "    if num_string[0].isnumeric():\n",
    "        options = [int('5' + num_string)]\n",
    "        for enum, x in enumerate(num_string, 1):\n",
    "            new = num_string[:enum] + '5' +num_string[enum:]\n",
    "            options.append(int(new))\n",
    "    else:\n",
    "        options = []\n",
    "        for enum, x in enumerate(num_string, 1):\n",
    "            new = num_string[:enum] + '5' +num_string[enum:]\n",
    "            options.append(int(new))\n",
    "    print(options)\n",
    "    return max(options)  "
   ]
  },
  {
   "cell_type": "code",
   "execution_count": 89,
   "metadata": {},
   "outputs": [
    {
     "name": "stdout",
     "output_type": "stream",
     "text": [
      "[-5423, -4523, -4253, -4235]\n"
     ]
    },
    {
     "data": {
      "text/plain": [
       "-4235"
      ]
     },
     "execution_count": 89,
     "metadata": {},
     "output_type": "execute_result"
    }
   ],
   "source": [
    "insert5(-423)"
   ]
  },
  {
   "cell_type": "code",
   "execution_count": null,
   "metadata": {},
   "outputs": [],
   "source": []
  }
 ],
 "metadata": {
  "kernelspec": {
   "display_name": "Python 3",
   "language": "python",
   "name": "python3"
  },
  "language_info": {
   "codemirror_mode": {
    "name": "ipython",
    "version": 3
   },
   "file_extension": ".py",
   "mimetype": "text/x-python",
   "name": "python",
   "nbconvert_exporter": "python",
   "pygments_lexer": "ipython3",
   "version": "3.7.7"
  },
  "toc": {
   "base_numbering": 1,
   "nav_menu": {},
   "number_sections": true,
   "sideBar": true,
   "skip_h1_title": false,
   "title_cell": "Table of Contents",
   "title_sidebar": "Contents",
   "toc_cell": false,
   "toc_position": {},
   "toc_section_display": true,
   "toc_window_display": false
  }
 },
 "nbformat": 4,
 "nbformat_minor": 4
}
