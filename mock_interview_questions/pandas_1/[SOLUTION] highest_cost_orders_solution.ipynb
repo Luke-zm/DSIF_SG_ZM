{
 "cells": [
  {
   "cell_type": "markdown",
   "metadata": {},
   "source": [
    "# [SOLUTION] Highest Cost Orders"
   ]
  },
  {
   "cell_type": "code",
   "execution_count": 1,
   "metadata": {},
   "outputs": [],
   "source": [
    "import pandas as pd\n",
    "orders = pd.read_csv('./data/orders.csv',parse_dates=['order_date'])\n",
    "customers = pd.read_csv('./data/customers.csv')"
   ]
  },
  {
   "cell_type": "code",
   "execution_count": 5,
   "metadata": {
    "scrolled": true
   },
   "outputs": [
    {
     "data": {
      "text/html": [
       "<div>\n",
       "<style scoped>\n",
       "    .dataframe tbody tr th:only-of-type {\n",
       "        vertical-align: middle;\n",
       "    }\n",
       "\n",
       "    .dataframe tbody tr th {\n",
       "        vertical-align: top;\n",
       "    }\n",
       "\n",
       "    .dataframe thead th {\n",
       "        text-align: right;\n",
       "    }\n",
       "</style>\n",
       "<table border=\"1\" class=\"dataframe\">\n",
       "  <thead>\n",
       "    <tr style=\"text-align: right;\">\n",
       "      <th></th>\n",
       "      <th>first_name</th>\n",
       "      <th>order_date</th>\n",
       "      <th>max_cost</th>\n",
       "    </tr>\n",
       "  </thead>\n",
       "  <tbody>\n",
       "    <tr>\n",
       "      <th>0</th>\n",
       "      <td>Jill</td>\n",
       "      <td>2019-04-19</td>\n",
       "      <td>275</td>\n",
       "    </tr>\n",
       "  </tbody>\n",
       "</table>\n",
       "</div>"
      ],
      "text/plain": [
       "  first_name order_date  max_cost\n",
       "0       Jill 2019-04-19       275"
      ]
     },
     "execution_count": 5,
     "metadata": {},
     "output_type": "execute_result"
    }
   ],
   "source": [
    "# filter by dates\n",
    "filter_orders = orders[\n",
    "    orders['order_date'].between(\n",
    "        left = '2019-02-01',\n",
    "        right = '2019-05-01'\n",
    "    )\n",
    "]\n",
    "\n",
    "# groupby customer id and order date\n",
    "grouped_orders = filter_orders.groupby([\n",
    "    'cust_id',\n",
    "    'order_date'\n",
    "])['total_order_cost'].sum().reset_index()\n",
    "\n",
    "# get value of max order\n",
    "max_order = grouped_orders['total_order_cost'].max()\n",
    "\n",
    "# filter customer id and date with highest daily order\n",
    "answer = grouped_orders[grouped_orders['total_order_cost'] == max_order]\n",
    "\n",
    "# merge with customer data\n",
    "output = pd.merge(\n",
    "    left = answer,\n",
    "    right = customers,\n",
    "    left_on = 'cust_id',\n",
    "    right_on = 'id',\n",
    "    how = 'inner'\n",
    ")[[\n",
    "    'first_name',\n",
    "    'order_date',\n",
    "    'total_order_cost' # select relevant columns\n",
    "]].rename(\n",
    "    columns = {\n",
    "        'total_order_cost':'max_cost'\n",
    "    }\n",
    ")\n",
    "\n",
    "output"
   ]
  },
  {
   "cell_type": "markdown",
   "metadata": {},
   "source": [
    "---"
   ]
  }
 ],
 "metadata": {
  "kernelspec": {
   "display_name": "Python 3 (ipykernel)",
   "language": "python",
   "name": "python3"
  },
  "language_info": {
   "codemirror_mode": {
    "name": "ipython",
    "version": 3
   },
   "file_extension": ".py",
   "mimetype": "text/x-python",
   "name": "python",
   "nbconvert_exporter": "python",
   "pygments_lexer": "ipython3",
   "version": "3.9.7"
  }
 },
 "nbformat": 4,
 "nbformat_minor": 4
}
