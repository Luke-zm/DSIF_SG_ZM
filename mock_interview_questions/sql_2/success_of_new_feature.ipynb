{
 "cells": [
  {
   "cell_type": "markdown",
   "metadata": {},
   "source": [
    "# Success of new feature\n",
    "\n",
    "An online marketplace company has introduced a new feature that allows potential buyers and sellers to conduct audio chats with each other prior to transacting.\n",
    "\n",
    "Let’s say we have two tables that represent this data.\n",
    "\n",
    "**Example**\n",
    "- Input:\n",
    "\n",
    "`chats` table\n",
    "\n",
    "|Column|Type|\n",
    "|---|---|\n",
    "|id|INTEGER|\n",
    "|buyer_user_id|INTEGER|\n",
    "|seller_user_id|INTEGER|\n",
    "|call_length|INTEGER|\n",
    "|call_connected|INTEGER|\n",
    "\n",
    "`marketplace_purchases` table\n",
    "\n",
    "|Column|Type|\n",
    "|---|---|\n",
    "|id|INTEGER|\n",
    "|buyer_user_id|INTEGER|\n",
    "|seller_user_id|INTEGER|\n",
    "|item_id|INTEGER|\n",
    "|purchase_amount|FLOAT|"
   ]
  },
  {
   "cell_type": "markdown",
   "metadata": {},
   "source": [
    "## Question: How would you measure the success of this new feature?"
   ]
  },
  {
   "cell_type": "markdown",
   "metadata": {},
   "source": [
    "---"
   ]
  }
 ],
 "metadata": {
  "kernelspec": {
   "display_name": "Python 3 (ipykernel)",
   "language": "python",
   "name": "python3"
  },
  "language_info": {
   "codemirror_mode": {
    "name": "ipython",
    "version": 3
   },
   "file_extension": ".py",
   "mimetype": "text/x-python",
   "name": "python",
   "nbconvert_exporter": "python",
   "pygments_lexer": "ipython3",
   "version": "3.9.7"
  }
 },
 "nbformat": 4,
 "nbformat_minor": 4
}
