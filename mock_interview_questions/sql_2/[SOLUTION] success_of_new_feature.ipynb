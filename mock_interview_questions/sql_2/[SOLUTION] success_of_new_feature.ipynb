{
 "cells": [
  {
   "cell_type": "markdown",
   "metadata": {},
   "source": [
    "# [SOLUTION] Success of new feature\n",
    "\n",
    "- Outer join on both tables\n",
    "- Group records into 3 groups:\n",
    "    1. purchases with call - to tell us if there is a correlation of call length to purchase amount\n",
    "    2. purchases without call - to tell us if there is a correlation of call to purchase\n",
    "    3. call without purchase - to tell us if there is a correlation of call to purchase\n",
    "- For group 1:\n",
    "    - We want to measure the correlation of call_length/connected with purchase amount\n",
    "    - It might be useful to see also for the percentage of purchases with calls for each item id\n",
    "- For group 2:\n",
    "    - We want to measure the distribution of purchases\n",
    "    - See if there are particular item that does not have calls\n",
    "- For group 3:\n",
    "    - We want to measure the distribution of calls\n",
    "    - See if there is visible difference between this group distribution with group 1 calls distribution"
   ]
  },
  {
   "cell_type": "markdown",
   "metadata": {},
   "source": [
    "---"
   ]
  }
 ],
 "metadata": {
  "kernelspec": {
   "display_name": "Python 3 (ipykernel)",
   "language": "python",
   "name": "python3"
  },
  "language_info": {
   "codemirror_mode": {
    "name": "ipython",
    "version": 3
   },
   "file_extension": ".py",
   "mimetype": "text/x-python",
   "name": "python",
   "nbconvert_exporter": "python",
   "pygments_lexer": "ipython3",
   "version": "3.9.7"
  }
 },
 "nbformat": 4,
 "nbformat_minor": 4
}
