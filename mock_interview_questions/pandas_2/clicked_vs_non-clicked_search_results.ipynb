{
 "cells": [
  {
   "cell_type": "markdown",
   "id": "4e0c8a06",
   "metadata": {},
   "source": [
    "# Clicked Vs Non-Clicked Search Results\n",
    "\n",
    "The 'position' column represents the position of the search results, and 'has_clicked' column represents whether the user has clicked on this result. Calculate the percentage of clicked search results that were in the top 3 positions. Also, calculate the percentage of non-clicked search results that were in the top 3 positions. Both percentages should be with respect to the total number of search records (all positions and both clicked and non-clicked searches). Output both percentages in the same row as two columns.\n",
    "\n",
    "`DataFrames: fb_search_events`\n",
    "\n",
    "`Expected Output Type: pandas.DataFrame`\n",
    "\n",
    "|clicked_top3_percent|nonclicked_top3_percent|\n",
    "|---|---|\n",
    "|33.333|25.333|\n",
    "\n",
    "- **fb_search_events**\n",
    "    - search_id: int64\n",
    "    - search_term: object\n",
    "    - clicked: int64\n",
    "    - search_results_position: int64"
   ]
  },
  {
   "cell_type": "code",
   "execution_count": 1,
   "id": "ab8d16fd",
   "metadata": {},
   "outputs": [],
   "source": [
    "import pandas as pd\n",
    "fb_search_results = pd.read_csv('./data/fb_search_results.csv')"
   ]
  }
 ],
 "metadata": {
  "kernelspec": {
   "display_name": "Python 3 (ipykernel)",
   "language": "python",
   "name": "python3"
  },
  "language_info": {
   "codemirror_mode": {
    "name": "ipython",
    "version": 3
   },
   "file_extension": ".py",
   "mimetype": "text/x-python",
   "name": "python",
   "nbconvert_exporter": "python",
   "pygments_lexer": "ipython3",
   "version": "3.9.7"
  }
 },
 "nbformat": 4,
 "nbformat_minor": 5
}
