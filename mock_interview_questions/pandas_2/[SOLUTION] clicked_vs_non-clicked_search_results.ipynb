{
 "cells": [
  {
   "cell_type": "markdown",
   "metadata": {},
   "source": [
    "# [SOLUTION] clicked_vs_non-clicked_search_results"
   ]
  },
  {
   "cell_type": "code",
   "execution_count": null,
   "metadata": {},
   "outputs": [],
   "source": [
    "import pandas as pd\n",
    "\n",
    "yes_above3 = fb_search_events[\n",
    "    (fb_search_events.search_results_position <= 3) \n",
    "    & (fb_search_events.clicked == 1)\n",
    "].shape[0]\n",
    "\n",
    "no_above3 = fb_search_events[\n",
    "    (fb_search_events.search_results_position <= 3) \n",
    "    & (fb_search_events.clicked == 0)\n",
    "].shape[0]\n",
    "\n",
    "total_count = fb_search_events.shape[0]\n",
    "\n",
    "result = pd.DataFrame(\n",
    "    columns=(\n",
    "        (yes_above3 / total_count)*100, \n",
    "        (no_above3 / total_count)*100\n",
    "    )\n",
    ")"
   ]
  },
  {
   "cell_type": "markdown",
   "metadata": {},
   "source": [
    "---"
   ]
  }
 ],
 "metadata": {
  "kernelspec": {
   "display_name": "Python 3 (ipykernel)",
   "language": "python",
   "name": "python3"
  },
  "language_info": {
   "codemirror_mode": {
    "name": "ipython",
    "version": 3
   },
   "file_extension": ".py",
   "mimetype": "text/x-python",
   "name": "python",
   "nbconvert_exporter": "python",
   "pygments_lexer": "ipython3",
   "version": "3.9.7"
  }
 },
 "nbformat": 4,
 "nbformat_minor": 4
}
