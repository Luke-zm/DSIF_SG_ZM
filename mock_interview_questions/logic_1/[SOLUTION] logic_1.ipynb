{
 "cells": [
  {
   "cell_type": "markdown",
   "metadata": {},
   "source": [
    "# [SOLUTION] Coding Exercise\n",
    "\n",
    "Write a function **get_indices** (Including type annotations) which takes a list of tuples and returns a 2D list of indices. Each sub-list corresponds to the indices of all rows pointing to the same person. Rows point to the same person if any of their column entries are the same. \n",
    "\n",
    "You will be graded on readability, error handling, completeness, and complexity (Please provide appropriate docstrings and also talk about time complexity).\n",
    "\n",
    "Note: Your function should work for any number of columns/ people and be tested for other unseen edge cases."
   ]
  },
  {
   "cell_type": "code",
   "execution_count": null,
   "metadata": {},
   "outputs": [],
   "source": [
    "#data = [('id1', 'addr1', 'pw1'), ('idx', 'addr1', 'pwx'), ('idz', 'addrz', 'pwz'), ('idy', 'addry', 'pwx')]\n",
    "#get_indices(data) \n",
    "#[[0, 1, 3], [2]]"
   ]
  },
  {
   "cell_type": "code",
   "execution_count": 1,
   "metadata": {},
   "outputs": [],
   "source": [
    "def get_indices(data):\n",
    "    groups = {}\n",
    "    indices = []\n",
    "    for index,tup in enumerate(data): #O(number of tuples in list)\n",
    "        settup = set(tup) #O(max length of tuple)\n",
    "        found = False\n",
    "        for k,g in groups.items(): #O(number of groups)\n",
    "            if len(g.intersection(settup)) > 0: #O(max length of tuple)\n",
    "                groups[k] = g.union(settup) #O(length of group + length of tuple)\n",
    "                indices[k].append(index)\n",
    "                found = True\n",
    "        if not found:\n",
    "            groups[len(indices)] = settup\n",
    "            indices.append([index])\n",
    "    return indices"
   ]
  },
  {
   "cell_type": "code",
   "execution_count": 2,
   "metadata": {
    "scrolled": true
   },
   "outputs": [
    {
     "data": {
      "text/plain": [
       "[[0, 1, 3], [2]]"
      ]
     },
     "execution_count": 2,
     "metadata": {},
     "output_type": "execute_result"
    }
   ],
   "source": [
    "data = [('id1', 'addr1', 'pw1'), ('idx', 'addr1', 'pwx'), ('idz', 'addrz', 'pwz'), ('idy', 'addry', 'pwx')]\n",
    "get_indices(data) "
   ]
  },
  {
   "cell_type": "markdown",
   "metadata": {},
   "source": [
    "---"
   ]
  }
 ],
 "metadata": {
  "kernelspec": {
   "display_name": "Python 3 (ipykernel)",
   "language": "python",
   "name": "python3"
  },
  "language_info": {
   "codemirror_mode": {
    "name": "ipython",
    "version": 3
   },
   "file_extension": ".py",
   "mimetype": "text/x-python",
   "name": "python",
   "nbconvert_exporter": "python",
   "pygments_lexer": "ipython3",
   "version": "3.9.7"
  }
 },
 "nbformat": 4,
 "nbformat_minor": 4
}
