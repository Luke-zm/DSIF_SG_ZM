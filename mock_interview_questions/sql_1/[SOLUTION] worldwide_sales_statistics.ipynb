{
 "cells": [
  {
   "cell_type": "markdown",
   "metadata": {},
   "source": [
    "# [SOLUTION] Worldwide Sales Statistics"
   ]
  },
  {
   "cell_type": "markdown",
   "metadata": {},
   "source": [
    "## Solution 1"
   ]
  },
  {
   "cell_type": "code",
   "execution_count": 3,
   "metadata": {
    "collapsed": true
   },
   "outputs": [
    {
     "data": {
      "text/plain": [
       "'\\nSELECT \\n    country.name AS country_name,\\n    mc_sales.name AS motorcycle_model,\\n    mc_sales.mc_country_revenue AS revenue\\nFROM (\\n    SELECT \\n        aggsales.model_id,\\n        mc.name,\\n        aggsales.country_id,\\n        aggsales.mc_country_sales,\\n        mc.price,\\n        aggsales.mc_country_sales * mc.price AS mc_country_revenue\\n    FROM (\\n        SELECT\\n            model_id,\\n            country_id,\\n            COUNT(1) as mc_country_sales\\n        FROM \\n            sales \\n        GROUP BY \\n            model_id\\n            country_id aggsales\\n        LEFT JOIN (\\n            SELECT \\n                *\\n            FROM \\n                motorcycle_model\\n        ) mc\\n        ON \\n            aggsales.model_id = mc.id\\n    ) mc_sales\\n    LEFT JOIN (\\n        SELECT\\n            id,\\n            name\\n        FROM \\n            country\\n    )\\n    ON\\n        mc_sales.country_id = country_id\\n) \\n'"
      ]
     },
     "execution_count": 3,
     "metadata": {},
     "output_type": "execute_result"
    }
   ],
   "source": [
    "\"\"\"\n",
    "SELECT \n",
    "    country.name AS country_name,\n",
    "    mc_sales.name AS motorcycle_model,\n",
    "    mc_sales.mc_country_revenue AS revenue\n",
    "FROM (\n",
    "    SELECT \n",
    "        aggsales.model_id,\n",
    "        mc.name,\n",
    "        aggsales.country_id,\n",
    "        aggsales.mc_country_sales,\n",
    "        mc.price,\n",
    "        aggsales.mc_country_sales * mc.price AS mc_country_revenue\n",
    "    FROM (\n",
    "        SELECT\n",
    "            model_id,\n",
    "            country_id,\n",
    "            COUNT(1) as mc_country_sales\n",
    "        FROM \n",
    "            sales \n",
    "        GROUP BY \n",
    "            model_id\n",
    "            country_id aggsales\n",
    "        LEFT JOIN (\n",
    "            SELECT \n",
    "                *\n",
    "            FROM \n",
    "                motorcycle_model\n",
    "        ) mc\n",
    "        ON \n",
    "            aggsales.model_id = mc.id\n",
    "    ) mc_sales\n",
    "    LEFT JOIN (\n",
    "        SELECT\n",
    "            id,\n",
    "            name\n",
    "        FROM \n",
    "            country\n",
    "    )\n",
    "    ON\n",
    "        mc_sales.country_id = country_id\n",
    ") \n",
    "\"\"\""
   ]
  },
  {
   "cell_type": "markdown",
   "metadata": {},
   "source": [
    "## Solution 2"
   ]
  },
  {
   "cell_type": "code",
   "execution_count": 4,
   "metadata": {
    "collapsed": true
   },
   "outputs": [
    {
     "data": {
      "text/plain": [
       "\"\\nSELECT\\n    country,\\n    motorcycle_model,\\n    SUM(sales) AS revenue\\nFROM\\n    (SELECT\\n    *,\\n    price*quantity AS sales\\n    FROM\\n        (SELECT\\n            M.name AS motorcycle_model,\\n            price,\\n            quantity,\\n            SUBSTRING(sales_date,1,4) AS yr,\\n            C.name AS country\\n        FROM\\n            sales AS S\\n        INNER JOIN\\n            motorcycle_model AS m\\n        ON\\n            S.model_id = M.id\\n        INNER JOIN\\n            country AS C\\n        ON\\n            S.country_id = C.id) \\n        AS part1) \\n    AS part2\\nWHERE\\n    yr = '2018'\\nGROUP BY\\n    country,\\n    motorcycle_model\\n\""
      ]
     },
     "execution_count": 4,
     "metadata": {},
     "output_type": "execute_result"
    }
   ],
   "source": [
    "\"\"\"\n",
    "SELECT\n",
    "    country,\n",
    "    motorcycle_model,\n",
    "    SUM(sales) AS revenue\n",
    "FROM\n",
    "    (SELECT\n",
    "    *,\n",
    "    price*quantity AS sales\n",
    "    FROM\n",
    "        (SELECT\n",
    "            M.name AS motorcycle_model,\n",
    "            price,\n",
    "            quantity,\n",
    "            SUBSTRING(sales_date,1,4) AS yr,\n",
    "            C.name AS country\n",
    "        FROM\n",
    "            sales AS S\n",
    "        INNER JOIN\n",
    "            motorcycle_model AS m\n",
    "        ON\n",
    "            S.model_id = M.id\n",
    "        INNER JOIN\n",
    "            country AS C\n",
    "        ON\n",
    "            S.country_id = C.id) \n",
    "        AS part1) \n",
    "    AS part2\n",
    "WHERE\n",
    "    yr = '2018'\n",
    "GROUP BY\n",
    "    country,\n",
    "    motorcycle_model\n",
    "\"\"\""
   ]
  },
  {
   "cell_type": "markdown",
   "metadata": {},
   "source": [
    "---"
   ]
  }
 ],
 "metadata": {
  "kernelspec": {
   "display_name": "Python 3 (ipykernel)",
   "language": "python",
   "name": "python3"
  },
  "language_info": {
   "codemirror_mode": {
    "name": "ipython",
    "version": 3
   },
   "file_extension": ".py",
   "mimetype": "text/x-python",
   "name": "python",
   "nbconvert_exporter": "python",
   "pygments_lexer": "ipython3",
   "version": "3.9.7"
  }
 },
 "nbformat": 4,
 "nbformat_minor": 4
}
