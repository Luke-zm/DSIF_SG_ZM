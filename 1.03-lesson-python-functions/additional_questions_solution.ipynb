{
 "cells": [
  {
   "cell_type": "markdown",
   "metadata": {},
   "source": [
    "## Exercise 1: Longest word\n",
    "\n",
    "Write a function `find_longest_word()` that takes a list of words and returns the length of the longest one.\n",
    " "
   ]
  },
  {
   "cell_type": "code",
   "execution_count": 44,
   "metadata": {},
   "outputs": [],
   "source": [
    "# input: list of words\n",
    "# output: length (int) of the longest word\n",
    "def find_longest_word(words_list):\n",
    "    # for loop \n",
    "    longest_len = 0\n",
    "    for word in words_list:\n",
    "        word_len = len(word)\n",
    "        if word_len > longest_len:\n",
    "            longest_len = word_len\n",
    "    return longest_len"
   ]
  },
  {
   "cell_type": "code",
   "execution_count": 47,
   "metadata": {},
   "outputs": [],
   "source": [
    "# input: list of words\n",
    "# output: length (int) of the longest word\n",
    "def find_longest_word_list_compre(words_list):\n",
    "    # list comprehension\n",
    "    return max(len(word) for word in words_list)"
   ]
  },
  {
   "cell_type": "code",
   "execution_count": 45,
   "metadata": {},
   "outputs": [
    {
     "data": {
      "text/plain": [
       "3"
      ]
     },
     "execution_count": 45,
     "metadata": {},
     "output_type": "execute_result"
    }
   ],
   "source": [
    "find_longest_word(['a','ab','abc'])"
   ]
  },
  {
   "cell_type": "code",
   "execution_count": 48,
   "metadata": {},
   "outputs": [
    {
     "data": {
      "text/plain": [
       "3"
      ]
     },
     "execution_count": 48,
     "metadata": {},
     "output_type": "execute_result"
    }
   ],
   "source": [
    "find_longest_word_list_compre(['a','ab','abc'])"
   ]
  },
  {
   "cell_type": "markdown",
   "metadata": {},
   "source": [
    "## Exercise 2: Lengths of the corresponding words\n",
    "\n",
    "Write a program that maps a list of words into a list of integers representing the lengths of the correponding words. Write it in two different ways: \n",
    "\n",
    "1) using a for-loop\n",
    "\n",
    "2) using list comprehensions"
   ]
  },
  {
   "cell_type": "code",
   "execution_count": 49,
   "metadata": {},
   "outputs": [],
   "source": [
    "# input: list of words\n",
    "# output: map of words to their length\n",
    "\n",
    "def map_words_length(words_list):\n",
    "    words_len_map = {}\n",
    "    for word in words_list:\n",
    "        words_len_map[word] = len(word)\n",
    "    return words_len_map"
   ]
  },
  {
   "cell_type": "code",
   "execution_count": 50,
   "metadata": {},
   "outputs": [
    {
     "data": {
      "text/plain": [
       "{'a': 1, 'ab': 2, 'abc': 3}"
      ]
     },
     "execution_count": 50,
     "metadata": {},
     "output_type": "execute_result"
    }
   ],
   "source": [
    "map_words_length(['a','ab','abc'])"
   ]
  },
  {
   "cell_type": "code",
   "execution_count": 53,
   "metadata": {},
   "outputs": [],
   "source": [
    "# input: list of words\n",
    "# output: map of words to their length\n",
    "\n",
    "def map_words_length_list_compre(words_list):\n",
    "    return {word: len(word) for word in words_list}"
   ]
  },
  {
   "cell_type": "code",
   "execution_count": 54,
   "metadata": {},
   "outputs": [
    {
     "data": {
      "text/plain": [
       "{'a': 1, 'ab': 2, 'abc': 3}"
      ]
     },
     "execution_count": 54,
     "metadata": {},
     "output_type": "execute_result"
    }
   ],
   "source": [
    "map_words_length_list_compre(['a','ab','abc'])"
   ]
  },
  {
   "cell_type": "markdown",
   "metadata": {},
   "source": [
    "# Exercise 4. Dictionary comprehensions: create data dictionary from lists\n",
    "\n",
    "1. The keys will be the items in the `columns` list.\n",
    "2. The values for the column keys will be the number referred to by the key (given to you in the `values` list), times the numbers in the `multiples` list.\n",
    "\n",
    "For example, if I had columns `'two'` and `'three'`, the output would be:\n",
    "\n",
    "```python\n",
    "columns = ['two', 'three']\n",
    "values = [2, 3]\n",
    "multiples = [1, 2, 3, 4, 5]\n",
    "# ...code to generate output below...\n",
    "{\n",
    " 'two': [2, 4, 6, 8, 10],\n",
    " 'three': [3, 6, 9, 12, 15]\n",
    "}\n",
    "\n",
    "```\n",
    "\n",
    "from the columns and associated values where each column is the first five multiples of the values:"
   ]
  },
  {
   "cell_type": "code",
   "execution_count": 13,
   "metadata": {},
   "outputs": [],
   "source": [
    "columns = ['five', 'seven', 'twelve']\n",
    "values = [5, 7, 12]\n",
    "multiples = [1, 2, 3, 4, 5]"
   ]
  },
  {
   "cell_type": "code",
   "execution_count": 14,
   "metadata": {},
   "outputs": [
    {
     "name": "stdout",
     "output_type": "stream",
     "text": [
      "five\n",
      "5\n",
      "seven\n",
      "7\n",
      "twelve\n",
      "12\n"
     ]
    }
   ],
   "source": [
    "#hint\n",
    "for c,v in zip(columns, values):\n",
    "    print(c)\n",
    "    print(v)"
   ]
  },
  {
   "cell_type": "markdown",
   "metadata": {},
   "source": [
    "### Using for/while loop"
   ]
  },
  {
   "cell_type": "code",
   "execution_count": 56,
   "metadata": {},
   "outputs": [
    {
     "data": {
      "text/plain": [
       "{'five': [5, 10, 15, 20, 25],\n",
       " 'seven': [7, 14, 21, 28, 35],\n",
       " 'twelve': [12, 24, 36, 48, 60]}"
      ]
     },
     "execution_count": 56,
     "metadata": {},
     "output_type": "execute_result"
    }
   ],
   "source": [
    "multiples_map = {}\n",
    "for c,v in zip(columns, values):\n",
    "    output_list = []\n",
    "    for m in multiples:\n",
    "        output_list.append(m*v)\n",
    "    multiples_map[c] = output_list\n",
    "\n",
    "multiples_map"
   ]
  },
  {
   "cell_type": "markdown",
   "metadata": {},
   "source": [
    "### using list comprehension"
   ]
  },
  {
   "cell_type": "code",
   "execution_count": 58,
   "metadata": {},
   "outputs": [
    {
     "data": {
      "text/plain": [
       "{'five': [5, 10, 15, 20, 25],\n",
       " 'seven': [7, 14, 21, 28, 35],\n",
       " 'twelve': [12, 24, 36, 48, 60]}"
      ]
     },
     "execution_count": 58,
     "metadata": {},
     "output_type": "execute_result"
    }
   ],
   "source": [
    "multiples_map_list_compre = {c: [m*v for m in multiples] for c, v in zip(columns, values) }\n",
    "multiples_map_list_compre"
   ]
  },
  {
   "cell_type": "markdown",
   "metadata": {},
   "source": [
    "## Exercise 5: Is a String a Palindrome?\n",
    "\n",
    "A string is a palindrome if it is identical forward and backward. For example “anna”, “civic”, “level” and “hannah” are all examples of palindromic words. Write a program that reads a string from the user and uses a loop to determines whether or not it is a palindrome. Display the result, including a meaningful output message."
   ]
  },
  {
   "cell_type": "code",
   "execution_count": 85,
   "metadata": {},
   "outputs": [
    {
     "name": "stdin",
     "output_type": "stream",
     "text": [
      "Check for palindrome: abababa\n"
     ]
    },
    {
     "name": "stdout",
     "output_type": "stream",
     "text": [
      "start index: 0, end index: -1\n",
      "start index: 1, end index: -2\n",
      "start index: 2, end index: -3\n",
      "The string abababa is a palindrome! :)\n"
     ]
    }
   ],
   "source": [
    "user_string = input(\"Check for palindrome:\")\n",
    "is_palindrome = True\n",
    "for index in range(int(len(user_string)/2)):\n",
    "    if user_string[index] == user_string[-1*(index+1)]:\n",
    "        # len is 4\n",
    "        # 0, 3\n",
    "        # 1, 2 (len=4, index=1, 4-1-1=2)\n",
    "        print(\"start index: %d, end index: %d\" % (index, -1*(index+1)))\n",
    "        pass\n",
    "    else:\n",
    "        is_palindrome = False\n",
    "        break\n",
    "if is_palindrome:\n",
    "    print(\"The string %s is a palindrome! :)\" % user_string)\n",
    "else:\n",
    "    print(\"The string %s is not a palindrome. :(\" % user_string)"
   ]
  },
  {
   "cell_type": "code",
   "execution_count": null,
   "metadata": {},
   "outputs": [],
   "source": [
    "# using reverse\n",
    "# user_str == user_str[::-1]"
   ]
  },
  {
   "cell_type": "markdown",
   "metadata": {},
   "source": [
    "## Exercise 6: List Remove Duplicates\n",
    "Write a function that takes a list and returns a new list that contains all the elements of the first list minus all the duplicates."
   ]
  },
  {
   "cell_type": "code",
   "execution_count": 70,
   "metadata": {},
   "outputs": [],
   "source": [
    "# input: list of elements\n",
    "# output: unique list\n",
    "\n",
    "def remove_duplicates(list_ele):\n",
    "    # return list(set(list_ele))\n",
    "    # for loop\n",
    "    result_list = []\n",
    "    for ele in list_ele:\n",
    "        if ele not in result_list:\n",
    "            result_list.append(ele)\n",
    "    return result_list"
   ]
  },
  {
   "cell_type": "code",
   "execution_count": 71,
   "metadata": {},
   "outputs": [
    {
     "data": {
      "text/plain": [
       "['a', 'b', 'c']"
      ]
     },
     "execution_count": 71,
     "metadata": {},
     "output_type": "execute_result"
    }
   ],
   "source": [
    "remove_duplicates(['a','a','b','c','b'])"
   ]
  },
  {
   "cell_type": "markdown",
   "metadata": {},
   "source": [
    "## Exercise 7: Pizza Points\n",
    "HuberEats is launching a network of autonomous pizza delivery drones and wants you to create a flexible rewards system (Pizza Points) that can be tweaked in the future. The rules are simple: if a customer has made at least N orders of at least Y price, they get a FREE pizza!\n",
    "\n",
    "* Create a function that takes a dictionary of customers, a minimum number of orders and a minimum order price. \n",
    "* Return a list of customers that are eligible for a free pizza. \n",
    "* Sort the returned array of customer names in alphabetical order.\n",
    "\n",
    "Examples:\n",
    "\n",
    "```\n",
    "customers = {\n",
    "  \"Batman\": [22, 30, 11, 17, 15, 52, 27, 12],\n",
    "  \"Spider-Man\": [5, 17, 30, 33, 40, 22, 26, 10, 11, 45]\n",
    "}\n",
    "\n",
    "  pizza_points(customers, 5, 20) ➞ [\"Spider-Man\"]\n",
    "  \n",
    "  pizza_points(customers, 3, 10) ➞ [\"Batman\", \"Spider-Man\"]\n",
    "  \n",
    "  pizza_points(customers, 5, 100) ➞ []\n",
    "```"
   ]
  },
  {
   "cell_type": "code",
   "execution_count": 33,
   "metadata": {},
   "outputs": [],
   "source": [
    "customers = {\n",
    "  \"Batman\": [22, 30, 11, 17, 15, 52, 27, 12],\n",
    "  \"Spider-Man\": [5, 17, 30, 33, 40, 22, 26, 10, 11, 45]\n",
    "}"
   ]
  },
  {
   "cell_type": "markdown",
   "metadata": {},
   "source": [
    "### Using For-loop"
   ]
  },
  {
   "cell_type": "code",
   "execution_count": 72,
   "metadata": {},
   "outputs": [],
   "source": [
    "def pizza_points(customers, orders, price):\n",
    "    free_pizza = []\n",
    "    for cus,cus_orders in customers.items():\n",
    "        count = 0\n",
    "        for cus_order in cus_orders:\n",
    "            if cus_order >= price:\n",
    "                count += 1\n",
    "        if count >= orders:\n",
    "            free_pizza.append(cus)\n",
    "    return free_pizza"
   ]
  },
  {
   "cell_type": "code",
   "execution_count": 74,
   "metadata": {},
   "outputs": [
    {
     "name": "stdout",
     "output_type": "stream",
     "text": [
      "['Spider-Man']\n",
      "['Batman', 'Spider-Man']\n",
      "[]\n"
     ]
    }
   ],
   "source": [
    "print(pizza_points(customers, 5, 20))\n",
    "print(pizza_points(customers, 3, 10))\n",
    "print(pizza_points(customers, 5, 100))"
   ]
  },
  {
   "cell_type": "markdown",
   "metadata": {},
   "source": [
    "### Using list comprehension"
   ]
  },
  {
   "cell_type": "code",
   "execution_count": 75,
   "metadata": {},
   "outputs": [],
   "source": [
    "def pizza_points_list_compre(customers, orders, price):\n",
    "    return [cus for cus, cus_orders in customers.items() if sum(1 if cus_order >= price else 0 for cus_order in cus_orders) >= orders]"
   ]
  },
  {
   "cell_type": "code",
   "execution_count": 76,
   "metadata": {},
   "outputs": [
    {
     "name": "stdout",
     "output_type": "stream",
     "text": [
      "['Spider-Man']\n",
      "['Batman', 'Spider-Man']\n",
      "[]\n"
     ]
    }
   ],
   "source": [
    "print(pizza_points_list_compre(customers, 5, 20))\n",
    "print(pizza_points_list_compre(customers, 3, 10))\n",
    "print(pizza_points_list_compre(customers, 5, 100))"
   ]
  },
  {
   "cell_type": "markdown",
   "metadata": {},
   "source": [
    "### Exercise 8: Write a quiz using for and while loops. Formulate a list containing questions and a list containing the corresponding answers. Loop through the question list, print out the question and ask for the answer. Make the program ask the question again as long as the question has not been answered correctly."
   ]
  },
  {
   "cell_type": "code",
   "execution_count": 40,
   "metadata": {},
   "outputs": [],
   "source": [
    "#sample\n",
    "questions = ['When did DSI start? ', 'How is Data Science? ']\n",
    "answers = ['Monday', 'wonderful']\n"
   ]
  },
  {
   "cell_type": "code",
   "execution_count": 77,
   "metadata": {},
   "outputs": [
    {
     "name": "stdin",
     "output_type": "stream",
     "text": [
      "When did DSI start?  a\n",
      "When did DSI start?  s\n",
      "When did DSI start?  vc\n",
      "When did DSI start?  v\n",
      "When did DSI start?  Monday\n",
      "How is Data Science?  wonderful\n"
     ]
    }
   ],
   "source": [
    "for question, ans in zip(questions, answers):\n",
    "    while user_ans != ans:\n",
    "        user_ans = input(question)"
   ]
  },
  {
   "cell_type": "code",
   "execution_count": null,
   "metadata": {},
   "outputs": [],
   "source": []
  }
 ],
 "metadata": {
  "kernelspec": {
   "display_name": "Python 3 (ipykernel)",
   "language": "python",
   "name": "python3"
  },
  "language_info": {
   "codemirror_mode": {
    "name": "ipython",
    "version": 3
   },
   "file_extension": ".py",
   "mimetype": "text/x-python",
   "name": "python",
   "nbconvert_exporter": "python",
   "pygments_lexer": "ipython3",
   "version": "3.9.12"
  }
 },
 "nbformat": 4,
 "nbformat_minor": 4
}
