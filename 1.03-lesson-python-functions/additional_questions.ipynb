{
 "cells": [
  {
   "cell_type": "markdown",
   "metadata": {},
   "source": [
    "## Exercise 1: Longest word\n",
    "\n",
    "Write a function `find_longest_word()` that takes a list of words and returns the length of the longest one.\n",
    " "
   ]
  },
  {
   "cell_type": "code",
   "execution_count": 1,
   "metadata": {},
   "outputs": [
    {
     "data": {
      "text/plain": [
       "5"
      ]
     },
     "execution_count": 1,
     "metadata": {},
     "output_type": "execute_result"
    }
   ],
   "source": [
    "def find_longest_word(lst_words):\n",
    "    \"\"\"\n",
    "    Args: \n",
    "    lst_words: a list of words\n",
    "    \n",
    "    return:\n",
    "    longest_len: length of longest words\n",
    "    \"\"\"\n",
    "    longest_len = 0\n",
    "    for word in lst_words:\n",
    "        if len(word) > longest_len:\n",
    "            longest_len = len(word)\n",
    "    return longest_len\n",
    "\n",
    "lst_words = [\"a\", \"abc\", \"abcde\"]\n",
    "find_longest_word(lst_words)"
   ]
  },
  {
   "cell_type": "markdown",
   "metadata": {},
   "source": [
    "## Exercise 2: Lengths of the corresponding words\n",
    "\n",
    "Write a program that maps a list of words into a list of integers representing the lengths of the correponding words. Write it in two different ways: \n",
    "\n",
    "1) using a for-loop\n",
    "\n",
    "2) using list comprehensions"
   ]
  },
  {
   "cell_type": "code",
   "execution_count": 6,
   "metadata": {},
   "outputs": [
    {
     "data": {
      "text/plain": [
       "[1, 3, 5]"
      ]
     },
     "execution_count": 6,
     "metadata": {},
     "output_type": "execute_result"
    }
   ],
   "source": [
    "def turn_words_to_str(lst_words):\n",
    "    lst_len = []\n",
    "    for word in lst_words:\n",
    "        len_word = len(word)\n",
    "        lst_len.append(len_word)\n",
    "    return lst_len\n",
    "\n",
    "turn_words_to_str(lst_words)"
   ]
  },
  {
   "cell_type": "code",
   "execution_count": 7,
   "metadata": {},
   "outputs": [
    {
     "data": {
      "text/plain": [
       "[1, 3, 5]"
      ]
     },
     "execution_count": 7,
     "metadata": {},
     "output_type": "execute_result"
    }
   ],
   "source": [
    "[len(word) for word in lst_words]"
   ]
  },
  {
   "cell_type": "markdown",
   "metadata": {},
   "source": [
    "# Exercise 4. Dictionary comprehensions: create data dictionary from lists\n",
    "\n",
    "1. The keys will be the items in the `columns` list.\n",
    "2. The values for the column keys will be the number referred to by the key (given to you in the `values` list), times the numbers in the `multiples` list.\n",
    "\n",
    "For example, if I had columns `'two'` and `'three'`, the output would be:\n",
    "\n",
    "```python\n",
    "columns = ['two', 'three']\n",
    "values = [2, 3]\n",
    "multiples = [1, 2, 3, 4, 5]\n",
    "# ...code to generate output below...\n",
    "{\n",
    " 'two': [2, 4, 6, 8, 10],\n",
    " 'three': [3, 6, 9, 12, 15]\n",
    "}\n",
    "\n",
    "```\n",
    "\n",
    "from the columns and associated values where each column is the first five multiples of the values:"
   ]
  },
  {
   "cell_type": "code",
   "execution_count": 1,
   "metadata": {},
   "outputs": [],
   "source": [
    "columns = ['five', 'seven', 'twelve']\n",
    "values = [5, 7, 12]\n",
    "multiples = [1, 2, 3, 4, 5]"
   ]
  },
  {
   "cell_type": "code",
   "execution_count": 3,
   "metadata": {},
   "outputs": [
    {
     "name": "stdout",
     "output_type": "stream",
     "text": [
      "five\n",
      "5\n",
      "seven\n",
      "7\n",
      "twelve\n",
      "12\n"
     ]
    }
   ],
   "source": [
    "#hint\n",
    "for c,v in zip(columns, values):\n",
    "    print(c)\n",
    "    print(v)"
   ]
  },
  {
   "cell_type": "code",
   "execution_count": null,
   "metadata": {},
   "outputs": [],
   "source": []
  },
  {
   "cell_type": "markdown",
   "metadata": {},
   "source": [
    "### Using for/while loop"
   ]
  },
  {
   "cell_type": "code",
   "execution_count": null,
   "metadata": {},
   "outputs": [],
   "source": []
  },
  {
   "cell_type": "markdown",
   "metadata": {},
   "source": [
    "### using list comprehension"
   ]
  },
  {
   "cell_type": "code",
   "execution_count": null,
   "metadata": {},
   "outputs": [],
   "source": []
  },
  {
   "cell_type": "markdown",
   "metadata": {},
   "source": [
    "## Exercise 5: Is a String a Palindrome?\n",
    "\n",
    "A string is a palindrome if it is identical forward and backward. For example “anna”, “civic”, “level” and “hannah” are all examples of palindromic words. Write a program that reads a string from the user and uses a loop to determines whether or not it is a palindrome. Display the result, including a meaningful output message."
   ]
  },
  {
   "cell_type": "code",
   "execution_count": null,
   "metadata": {},
   "outputs": [],
   "source": [
    "\n"
   ]
  },
  {
   "cell_type": "markdown",
   "metadata": {},
   "source": [
    "## Exercise 6: List Remove Duplicates\n",
    "Write a function that takes a list and returns a new list that contains all the elements of the first list minus all the duplicates."
   ]
  },
  {
   "cell_type": "code",
   "execution_count": 9,
   "metadata": {},
   "outputs": [
    {
     "data": {
      "text/plain": [
       "['c', 'a', 'b']"
      ]
     },
     "execution_count": 9,
     "metadata": {},
     "output_type": "execute_result"
    }
   ],
   "source": [
    "dup_lst = [\"a\", \"a\", \"b\", \"b\", \"c\", \"c\"]\n",
    "\n",
    "def unique_lst(dup_lst):\n",
    "    \"\"\"\n",
    "    args: dup_lst: list with dups\n",
    "    return: a list of unique lst\n",
    "    \"\"\"\n",
    "    return list(set(dup_lst))\n",
    "\n",
    "unique_lst(dup_lst)"
   ]
  },
  {
   "cell_type": "markdown",
   "metadata": {},
   "source": [
    "## Exercise 7: Pizza Points\n",
    "HuberEats is launching a network of autonomous pizza delivery drones and wants you to create a flexible rewards system (Pizza Points) that can be tweaked in the future. The rules are simple: if a customer has made at least N orders of at least Y price, they get a FREE pizza!\n",
    "\n",
    "* Create a function that takes a dictionary of customers, a minimum number of orders and a minimum order price. \n",
    "* Return a list of customers that are eligible for a free pizza. \n",
    "* Sort the returned array of customer names in alphabetical order.\n",
    "\n",
    "Examples:\n",
    "\n",
    "```\n",
    "customers = {\n",
    "  \"Batman\": [22, 30, 11, 17, 15, 52, 27, 12],\n",
    "  \"Spider-Man\": [5, 17, 30, 33, 40, 22, 26, 10, 11, 45]\n",
    "}\n",
    "\n",
    "  pizza_points(customers, 5, 20) ➞ [\"Spider-Man\"]\n",
    "  \n",
    "  pizza_points(customers, 3, 10) ➞ [\"Batman\", \"Spider-Man\"]\n",
    "  \n",
    "  pizza_points(customers, 5, 100) ➞ []\n",
    "```"
   ]
  },
  {
   "cell_type": "code",
   "execution_count": 23,
   "metadata": {},
   "outputs": [],
   "source": [
    "customers = {\n",
    "  \"Batman\": [22, 30, 11, 17, 15, 52, 27, 12],\n",
    "  \"Spider-Man\": [5, 17, 30, 33, 40, 22, 26, 10, 11, 45]\n",
    "}"
   ]
  },
  {
   "cell_type": "markdown",
   "metadata": {},
   "source": [
    "### Using For-loop"
   ]
  },
  {
   "cell_type": "code",
   "execution_count": 24,
   "metadata": {},
   "outputs": [],
   "source": [
    "def pizza_points(customers, orders, price):\n",
    "    free_pizza = []\n",
    "    for cus, cus_orders in customers.items():\n",
    "        count = 0\n",
    "        for cus_order in cus_orders:\n",
    "            if cus_order >= price:\n",
    "                count += 1\n",
    "        if count >= orders:\n",
    "            free_pizza.append(cus)\n",
    "    return(free_pizza)\n",
    "\n"
   ]
  },
  {
   "cell_type": "code",
   "execution_count": 26,
   "metadata": {},
   "outputs": [
    {
     "name": "stdout",
     "output_type": "stream",
     "text": [
      "['Spider-Man']\n",
      "['Batman', 'Spider-Man']\n",
      "[]\n"
     ]
    }
   ],
   "source": [
    "\n",
    "print(pizza_points(customers, 5, 20))\n",
    "  \n",
    "print(pizza_points(customers, 3, 10))\n",
    "  \n",
    "print(pizza_points(customers, 5, 100))"
   ]
  },
  {
   "cell_type": "markdown",
   "metadata": {},
   "source": [
    "### Using list comprehension"
   ]
  },
  {
   "cell_type": "code",
   "execution_count": 20,
   "metadata": {},
   "outputs": [],
   "source": [
    "\n",
    "def pizza_points(customers, orders, price):\n",
    "    return [cus for cus, cus_orders in customers.items() if sum(1 if cus_order >= price else 0 for cus_order in cus_orders) >= orders]"
   ]
  },
  {
   "cell_type": "code",
   "execution_count": 27,
   "metadata": {},
   "outputs": [
    {
     "name": "stdout",
     "output_type": "stream",
     "text": [
      "['Spider-Man']\n",
      "['Batman', 'Spider-Man']\n",
      "[]\n"
     ]
    }
   ],
   "source": [
    "print(pizza_points(customers, 5, 20))\n",
    "  \n",
    "print(pizza_points(customers, 3, 10))\n",
    "  \n",
    "print(pizza_points(customers, 5, 100))"
   ]
  },
  {
   "cell_type": "markdown",
   "metadata": {},
   "source": [
    "### Exercise 8: Write a quiz using for and while loops. Formulate a list containing questions and a list containing the corresponding answers. Loop through the question list, print out the question and ask for the answer. Make the program ask the question again as long as the question has not been answered correctly."
   ]
  },
  {
   "cell_type": "code",
   "execution_count": 1,
   "metadata": {},
   "outputs": [],
   "source": [
    "#sample\n",
    "questions = ['When did DSI start? ', 'How is Data Science? ']\n",
    "answers = ['Monday', 'wonderful']\n"
   ]
  },
  {
   "cell_type": "code",
   "execution_count": null,
   "metadata": {},
   "outputs": [],
   "source": []
  }
 ],
 "metadata": {
  "kernelspec": {
   "display_name": "Python 3",
   "language": "python",
   "name": "python3"
  },
  "language_info": {
   "codemirror_mode": {
    "name": "ipython",
    "version": 3
   },
   "file_extension": ".py",
   "mimetype": "text/x-python",
   "name": "python",
   "nbconvert_exporter": "python",
   "pygments_lexer": "ipython3",
   "version": "3.9.12"
  }
 },
 "nbformat": 4,
 "nbformat_minor": 4
}
