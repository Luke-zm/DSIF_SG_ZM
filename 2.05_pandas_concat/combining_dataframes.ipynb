{
 "cells": [
  {
   "cell_type": "markdown",
   "metadata": {},
   "source": [
    "<img src=\"http://imgur.com/1ZcRyrc.png\" style=\"float: left; margin: 20px; height: 55px\">\n",
    "\n",
    "## Combining DataFrames\n",
    "_**Author**: Boom D. (DSI-NYC), Mahdi S. (DSI-NYC)_\n",
    "***"
   ]
  },
  {
   "cell_type": "markdown",
   "metadata": {},
   "source": [
    "__First, we'll cover a _simplification_ of the two most common Pandas methods you can combine dataframes together.__"
   ]
  },
  {
   "cell_type": "markdown",
   "metadata": {},
   "source": [
    "## Import packages"
   ]
  },
  {
   "cell_type": "code",
   "execution_count": 1,
   "metadata": {},
   "outputs": [],
   "source": [
    "import pandas as pd\n",
    "import numpy as np\n",
    "import matplotlib.pyplot as plt # for Pandas plotting"
   ]
  },
  {
   "cell_type": "markdown",
   "metadata": {},
   "source": [
    "## Loading data\n",
    "\n",
    "_Note: I've drastically modified and simplified the data from its original source, the [Central Park Squirrel Dataset](https://data.cityofnewyork.us/Environment/2018-Central-Park-Squirrel-Census-Squirrel-Data/vfnx-vebw)_"
   ]
  },
  {
   "cell_type": "code",
   "execution_count": 2,
   "metadata": {},
   "outputs": [],
   "source": [
    "age      = pd.read_csv(\"./datasets/squirrel_age.csv\")\n",
    "color    = pd.read_csv(\"./datasets/squirrel_color.csv\")\n",
    "location = pd.read_csv(\"./datasets/squirrel_location.csv\")"
   ]
  },
  {
   "cell_type": "code",
   "execution_count": 3,
   "metadata": {},
   "outputs": [
    {
     "data": {
      "text/html": [
       "<div>\n",
       "<style scoped>\n",
       "    .dataframe tbody tr th:only-of-type {\n",
       "        vertical-align: middle;\n",
       "    }\n",
       "\n",
       "    .dataframe tbody tr th {\n",
       "        vertical-align: top;\n",
       "    }\n",
       "\n",
       "    .dataframe thead th {\n",
       "        text-align: right;\n",
       "    }\n",
       "</style>\n",
       "<table border=\"1\" class=\"dataframe\">\n",
       "  <thead>\n",
       "    <tr style=\"text-align: right;\">\n",
       "      <th></th>\n",
       "      <th>Unique Squirrel ID</th>\n",
       "      <th>Age</th>\n",
       "    </tr>\n",
       "  </thead>\n",
       "  <tbody>\n",
       "    <tr>\n",
       "      <th>0</th>\n",
       "      <td>8A-AM-1013-06</td>\n",
       "      <td>Juvenile</td>\n",
       "    </tr>\n",
       "    <tr>\n",
       "      <th>1</th>\n",
       "      <td>7H-PM-1006-07</td>\n",
       "      <td>Adult</td>\n",
       "    </tr>\n",
       "    <tr>\n",
       "      <th>2</th>\n",
       "      <td>3G-PM-1013-03</td>\n",
       "      <td>Adult</td>\n",
       "    </tr>\n",
       "    <tr>\n",
       "      <th>3</th>\n",
       "      <td>22F-AM-1007-07</td>\n",
       "      <td>Juvenile</td>\n",
       "    </tr>\n",
       "    <tr>\n",
       "      <th>4</th>\n",
       "      <td>20A-PM-1017-01</td>\n",
       "      <td>Adult</td>\n",
       "    </tr>\n",
       "  </tbody>\n",
       "</table>\n",
       "</div>"
      ],
      "text/plain": [
       "  Unique Squirrel ID       Age\n",
       "0      8A-AM-1013-06  Juvenile\n",
       "1      7H-PM-1006-07     Adult\n",
       "2      3G-PM-1013-03     Adult\n",
       "3     22F-AM-1007-07  Juvenile\n",
       "4     20A-PM-1017-01     Adult"
      ]
     },
     "execution_count": 3,
     "metadata": {},
     "output_type": "execute_result"
    }
   ],
   "source": [
    "age # notice number of observations"
   ]
  },
  {
   "cell_type": "code",
   "execution_count": 4,
   "metadata": {},
   "outputs": [
    {
     "data": {
      "text/html": [
       "<div>\n",
       "<style scoped>\n",
       "    .dataframe tbody tr th:only-of-type {\n",
       "        vertical-align: middle;\n",
       "    }\n",
       "\n",
       "    .dataframe tbody tr th {\n",
       "        vertical-align: top;\n",
       "    }\n",
       "\n",
       "    .dataframe thead th {\n",
       "        text-align: right;\n",
       "    }\n",
       "</style>\n",
       "<table border=\"1\" class=\"dataframe\">\n",
       "  <thead>\n",
       "    <tr style=\"text-align: right;\">\n",
       "      <th></th>\n",
       "      <th>Unique Squirrel ID</th>\n",
       "      <th>Primary Fur Color</th>\n",
       "    </tr>\n",
       "  </thead>\n",
       "  <tbody>\n",
       "    <tr>\n",
       "      <th>0</th>\n",
       "      <td>20A-PM-1017-01</td>\n",
       "      <td>Gray</td>\n",
       "    </tr>\n",
       "    <tr>\n",
       "      <th>1</th>\n",
       "      <td>22F-AM-1007-07</td>\n",
       "      <td>Cinnamon</td>\n",
       "    </tr>\n",
       "    <tr>\n",
       "      <th>2</th>\n",
       "      <td>7H-PM-1006-07</td>\n",
       "      <td>Gray</td>\n",
       "    </tr>\n",
       "    <tr>\n",
       "      <th>3</th>\n",
       "      <td>3G-PM-1013-03</td>\n",
       "      <td>Gray</td>\n",
       "    </tr>\n",
       "  </tbody>\n",
       "</table>\n",
       "</div>"
      ],
      "text/plain": [
       "  Unique Squirrel ID Primary Fur Color\n",
       "0     20A-PM-1017-01              Gray\n",
       "1     22F-AM-1007-07          Cinnamon\n",
       "2      7H-PM-1006-07              Gray\n",
       "3      3G-PM-1013-03              Gray"
      ]
     },
     "execution_count": 4,
     "metadata": {},
     "output_type": "execute_result"
    }
   ],
   "source": [
    "color # notice number of observations"
   ]
  },
  {
   "cell_type": "code",
   "execution_count": 5,
   "metadata": {},
   "outputs": [
    {
     "data": {
      "text/html": [
       "<div>\n",
       "<style scoped>\n",
       "    .dataframe tbody tr th:only-of-type {\n",
       "        vertical-align: middle;\n",
       "    }\n",
       "\n",
       "    .dataframe tbody tr th {\n",
       "        vertical-align: top;\n",
       "    }\n",
       "\n",
       "    .dataframe thead th {\n",
       "        text-align: right;\n",
       "    }\n",
       "</style>\n",
       "<table border=\"1\" class=\"dataframe\">\n",
       "  <thead>\n",
       "    <tr style=\"text-align: right;\">\n",
       "      <th></th>\n",
       "      <th>unique_squirrel_id</th>\n",
       "      <th>lat</th>\n",
       "      <th>long</th>\n",
       "    </tr>\n",
       "  </thead>\n",
       "  <tbody>\n",
       "    <tr>\n",
       "      <th>0</th>\n",
       "      <td>3G-PM-1013-03</td>\n",
       "      <td>-73.974437</td>\n",
       "      <td>40.767428</td>\n",
       "    </tr>\n",
       "    <tr>\n",
       "      <th>1</th>\n",
       "      <td>7H-PM-1006-07</td>\n",
       "      <td>-73.970026</td>\n",
       "      <td>40.769934</td>\n",
       "    </tr>\n",
       "    <tr>\n",
       "      <th>2</th>\n",
       "      <td>31F-AM-1013-01</td>\n",
       "      <td>-73.959687</td>\n",
       "      <td>40.789379</td>\n",
       "    </tr>\n",
       "    <tr>\n",
       "      <th>3</th>\n",
       "      <td>8A-AM-1013-06</td>\n",
       "      <td>-73.977310</td>\n",
       "      <td>40.773805</td>\n",
       "    </tr>\n",
       "    <tr>\n",
       "      <th>4</th>\n",
       "      <td>22F-AM-1007-07</td>\n",
       "      <td>-73.964660</td>\n",
       "      <td>40.782770</td>\n",
       "    </tr>\n",
       "    <tr>\n",
       "      <th>5</th>\n",
       "      <td>20A-PM-1017-01</td>\n",
       "      <td>-73.970069</td>\n",
       "      <td>40.782889</td>\n",
       "    </tr>\n",
       "  </tbody>\n",
       "</table>\n",
       "</div>"
      ],
      "text/plain": [
       "  unique_squirrel_id        lat       long\n",
       "0      3G-PM-1013-03 -73.974437  40.767428\n",
       "1      7H-PM-1006-07 -73.970026  40.769934\n",
       "2     31F-AM-1013-01 -73.959687  40.789379\n",
       "3      8A-AM-1013-06 -73.977310  40.773805\n",
       "4     22F-AM-1007-07 -73.964660  40.782770\n",
       "5     20A-PM-1017-01 -73.970069  40.782889"
      ]
     },
     "execution_count": 5,
     "metadata": {},
     "output_type": "execute_result"
    }
   ],
   "source": [
    "location # notice number of observations"
   ]
  },
  {
   "cell_type": "markdown",
   "metadata": {},
   "source": [
    "Take a moment to notice the shape of these data"
   ]
  },
  {
   "cell_type": "markdown",
   "metadata": {},
   "source": [
    "## `.merge()`\n",
    "\n",
    "When we use `.merge()`:\n",
    "- Only merges 2 dataframes\n",
    "- We MUST merge on a common column - this is information that is shared by both dataframes.\n",
    "---\n",
    "__What is the common column in the `age` and `color` dataframes?__"
   ]
  },
  {
   "cell_type": "code",
   "execution_count": 6,
   "metadata": {},
   "outputs": [
    {
     "data": {
      "text/html": [
       "<div>\n",
       "<style scoped>\n",
       "    .dataframe tbody tr th:only-of-type {\n",
       "        vertical-align: middle;\n",
       "    }\n",
       "\n",
       "    .dataframe tbody tr th {\n",
       "        vertical-align: top;\n",
       "    }\n",
       "\n",
       "    .dataframe thead th {\n",
       "        text-align: right;\n",
       "    }\n",
       "</style>\n",
       "<table border=\"1\" class=\"dataframe\">\n",
       "  <thead>\n",
       "    <tr style=\"text-align: right;\">\n",
       "      <th></th>\n",
       "      <th>Unique Squirrel ID</th>\n",
       "      <th>Age</th>\n",
       "      <th>Primary Fur Color</th>\n",
       "    </tr>\n",
       "  </thead>\n",
       "  <tbody>\n",
       "    <tr>\n",
       "      <th>0</th>\n",
       "      <td>7H-PM-1006-07</td>\n",
       "      <td>Adult</td>\n",
       "      <td>Gray</td>\n",
       "    </tr>\n",
       "    <tr>\n",
       "      <th>1</th>\n",
       "      <td>3G-PM-1013-03</td>\n",
       "      <td>Adult</td>\n",
       "      <td>Gray</td>\n",
       "    </tr>\n",
       "    <tr>\n",
       "      <th>2</th>\n",
       "      <td>22F-AM-1007-07</td>\n",
       "      <td>Juvenile</td>\n",
       "      <td>Cinnamon</td>\n",
       "    </tr>\n",
       "    <tr>\n",
       "      <th>3</th>\n",
       "      <td>20A-PM-1017-01</td>\n",
       "      <td>Adult</td>\n",
       "      <td>Gray</td>\n",
       "    </tr>\n",
       "  </tbody>\n",
       "</table>\n",
       "</div>"
      ],
      "text/plain": [
       "  Unique Squirrel ID       Age Primary Fur Color\n",
       "0      7H-PM-1006-07     Adult              Gray\n",
       "1      3G-PM-1013-03     Adult              Gray\n",
       "2     22F-AM-1007-07  Juvenile          Cinnamon\n",
       "3     20A-PM-1017-01     Adult              Gray"
      ]
     },
     "execution_count": 6,
     "metadata": {},
     "output_type": "execute_result"
    }
   ],
   "source": [
    "# pd.merge(left = ,\n",
    "#          right = ,\n",
    "#          on = )\n",
    "age.merge(color)"
   ]
  },
  {
   "cell_type": "code",
   "execution_count": 7,
   "metadata": {},
   "outputs": [
    {
     "data": {
      "text/html": [
       "<div>\n",
       "<style scoped>\n",
       "    .dataframe tbody tr th:only-of-type {\n",
       "        vertical-align: middle;\n",
       "    }\n",
       "\n",
       "    .dataframe tbody tr th {\n",
       "        vertical-align: top;\n",
       "    }\n",
       "\n",
       "    .dataframe thead th {\n",
       "        text-align: right;\n",
       "    }\n",
       "</style>\n",
       "<table border=\"1\" class=\"dataframe\">\n",
       "  <thead>\n",
       "    <tr style=\"text-align: right;\">\n",
       "      <th></th>\n",
       "      <th>Unique Squirrel ID</th>\n",
       "      <th>Age</th>\n",
       "      <th>Primary Fur Color</th>\n",
       "    </tr>\n",
       "  </thead>\n",
       "  <tbody>\n",
       "    <tr>\n",
       "      <th>0</th>\n",
       "      <td>7H-PM-1006-07</td>\n",
       "      <td>Adult</td>\n",
       "      <td>Gray</td>\n",
       "    </tr>\n",
       "    <tr>\n",
       "      <th>1</th>\n",
       "      <td>3G-PM-1013-03</td>\n",
       "      <td>Adult</td>\n",
       "      <td>Gray</td>\n",
       "    </tr>\n",
       "    <tr>\n",
       "      <th>2</th>\n",
       "      <td>22F-AM-1007-07</td>\n",
       "      <td>Juvenile</td>\n",
       "      <td>Cinnamon</td>\n",
       "    </tr>\n",
       "    <tr>\n",
       "      <th>3</th>\n",
       "      <td>20A-PM-1017-01</td>\n",
       "      <td>Adult</td>\n",
       "      <td>Gray</td>\n",
       "    </tr>\n",
       "  </tbody>\n",
       "</table>\n",
       "</div>"
      ],
      "text/plain": [
       "  Unique Squirrel ID       Age Primary Fur Color\n",
       "0      7H-PM-1006-07     Adult              Gray\n",
       "1      3G-PM-1013-03     Adult              Gray\n",
       "2     22F-AM-1007-07  Juvenile          Cinnamon\n",
       "3     20A-PM-1017-01     Adult              Gray"
      ]
     },
     "execution_count": 7,
     "metadata": {},
     "output_type": "execute_result"
    }
   ],
   "source": [
    "age.merge(color, on='Unique Squirrel ID')"
   ]
  },
  {
   "cell_type": "code",
   "execution_count": 8,
   "metadata": {},
   "outputs": [
    {
     "data": {
      "text/html": [
       "<div>\n",
       "<style scoped>\n",
       "    .dataframe tbody tr th:only-of-type {\n",
       "        vertical-align: middle;\n",
       "    }\n",
       "\n",
       "    .dataframe tbody tr th {\n",
       "        vertical-align: top;\n",
       "    }\n",
       "\n",
       "    .dataframe thead th {\n",
       "        text-align: right;\n",
       "    }\n",
       "</style>\n",
       "<table border=\"1\" class=\"dataframe\">\n",
       "  <thead>\n",
       "    <tr style=\"text-align: right;\">\n",
       "      <th></th>\n",
       "      <th>Unique Squirrel ID</th>\n",
       "      <th>Age</th>\n",
       "      <th>Primary Fur Color</th>\n",
       "    </tr>\n",
       "  </thead>\n",
       "  <tbody>\n",
       "    <tr>\n",
       "      <th>0</th>\n",
       "      <td>7H-PM-1006-07</td>\n",
       "      <td>Adult</td>\n",
       "      <td>Gray</td>\n",
       "    </tr>\n",
       "    <tr>\n",
       "      <th>1</th>\n",
       "      <td>3G-PM-1013-03</td>\n",
       "      <td>Adult</td>\n",
       "      <td>Gray</td>\n",
       "    </tr>\n",
       "    <tr>\n",
       "      <th>2</th>\n",
       "      <td>22F-AM-1007-07</td>\n",
       "      <td>Juvenile</td>\n",
       "      <td>Cinnamon</td>\n",
       "    </tr>\n",
       "    <tr>\n",
       "      <th>3</th>\n",
       "      <td>20A-PM-1017-01</td>\n",
       "      <td>Adult</td>\n",
       "      <td>Gray</td>\n",
       "    </tr>\n",
       "  </tbody>\n",
       "</table>\n",
       "</div>"
      ],
      "text/plain": [
       "  Unique Squirrel ID       Age Primary Fur Color\n",
       "0      7H-PM-1006-07     Adult              Gray\n",
       "1      3G-PM-1013-03     Adult              Gray\n",
       "2     22F-AM-1007-07  Juvenile          Cinnamon\n",
       "3     20A-PM-1017-01     Adult              Gray"
      ]
     },
     "execution_count": 8,
     "metadata": {},
     "output_type": "execute_result"
    }
   ],
   "source": [
    "age.merge(color, on='Unique Squirrel ID', how='inner')"
   ]
  },
  {
   "cell_type": "code",
   "execution_count": 9,
   "metadata": {},
   "outputs": [
    {
     "data": {
      "text/html": [
       "<div>\n",
       "<style scoped>\n",
       "    .dataframe tbody tr th:only-of-type {\n",
       "        vertical-align: middle;\n",
       "    }\n",
       "\n",
       "    .dataframe tbody tr th {\n",
       "        vertical-align: top;\n",
       "    }\n",
       "\n",
       "    .dataframe thead th {\n",
       "        text-align: right;\n",
       "    }\n",
       "</style>\n",
       "<table border=\"1\" class=\"dataframe\">\n",
       "  <thead>\n",
       "    <tr style=\"text-align: right;\">\n",
       "      <th></th>\n",
       "      <th>Unique Squirrel ID</th>\n",
       "      <th>Age</th>\n",
       "      <th>Primary Fur Color</th>\n",
       "    </tr>\n",
       "  </thead>\n",
       "  <tbody>\n",
       "    <tr>\n",
       "      <th>0</th>\n",
       "      <td>7H-PM-1006-07</td>\n",
       "      <td>Adult</td>\n",
       "      <td>Gray</td>\n",
       "    </tr>\n",
       "    <tr>\n",
       "      <th>1</th>\n",
       "      <td>3G-PM-1013-03</td>\n",
       "      <td>Adult</td>\n",
       "      <td>Gray</td>\n",
       "    </tr>\n",
       "    <tr>\n",
       "      <th>2</th>\n",
       "      <td>22F-AM-1007-07</td>\n",
       "      <td>Juvenile</td>\n",
       "      <td>Cinnamon</td>\n",
       "    </tr>\n",
       "    <tr>\n",
       "      <th>3</th>\n",
       "      <td>20A-PM-1017-01</td>\n",
       "      <td>Adult</td>\n",
       "      <td>Gray</td>\n",
       "    </tr>\n",
       "  </tbody>\n",
       "</table>\n",
       "</div>"
      ],
      "text/plain": [
       "  Unique Squirrel ID       Age Primary Fur Color\n",
       "0      7H-PM-1006-07     Adult              Gray\n",
       "1      3G-PM-1013-03     Adult              Gray\n",
       "2     22F-AM-1007-07  Juvenile          Cinnamon\n",
       "3     20A-PM-1017-01     Adult              Gray"
      ]
     },
     "execution_count": 9,
     "metadata": {},
     "output_type": "execute_result"
    }
   ],
   "source": [
    "age.merge(color, left_on='Unique Squirrel ID', right_on='Unique Squirrel ID', how='inner')"
   ]
  },
  {
   "cell_type": "code",
   "execution_count": 11,
   "metadata": {},
   "outputs": [
    {
     "data": {
      "text/html": [
       "<div>\n",
       "<style scoped>\n",
       "    .dataframe tbody tr th:only-of-type {\n",
       "        vertical-align: middle;\n",
       "    }\n",
       "\n",
       "    .dataframe tbody tr th {\n",
       "        vertical-align: top;\n",
       "    }\n",
       "\n",
       "    .dataframe thead th {\n",
       "        text-align: right;\n",
       "    }\n",
       "</style>\n",
       "<table border=\"1\" class=\"dataframe\">\n",
       "  <thead>\n",
       "    <tr style=\"text-align: right;\">\n",
       "      <th></th>\n",
       "      <th>Unique Squirrel ID</th>\n",
       "      <th>Age</th>\n",
       "      <th>unique_squirrel_id</th>\n",
       "      <th>lat</th>\n",
       "      <th>long</th>\n",
       "    </tr>\n",
       "  </thead>\n",
       "  <tbody>\n",
       "    <tr>\n",
       "      <th>0</th>\n",
       "      <td>8A-AM-1013-06</td>\n",
       "      <td>Juvenile</td>\n",
       "      <td>8A-AM-1013-06</td>\n",
       "      <td>-73.977310</td>\n",
       "      <td>40.773805</td>\n",
       "    </tr>\n",
       "    <tr>\n",
       "      <th>1</th>\n",
       "      <td>7H-PM-1006-07</td>\n",
       "      <td>Adult</td>\n",
       "      <td>7H-PM-1006-07</td>\n",
       "      <td>-73.970026</td>\n",
       "      <td>40.769934</td>\n",
       "    </tr>\n",
       "    <tr>\n",
       "      <th>2</th>\n",
       "      <td>3G-PM-1013-03</td>\n",
       "      <td>Adult</td>\n",
       "      <td>3G-PM-1013-03</td>\n",
       "      <td>-73.974437</td>\n",
       "      <td>40.767428</td>\n",
       "    </tr>\n",
       "    <tr>\n",
       "      <th>3</th>\n",
       "      <td>22F-AM-1007-07</td>\n",
       "      <td>Juvenile</td>\n",
       "      <td>22F-AM-1007-07</td>\n",
       "      <td>-73.964660</td>\n",
       "      <td>40.782770</td>\n",
       "    </tr>\n",
       "    <tr>\n",
       "      <th>4</th>\n",
       "      <td>20A-PM-1017-01</td>\n",
       "      <td>Adult</td>\n",
       "      <td>20A-PM-1017-01</td>\n",
       "      <td>-73.970069</td>\n",
       "      <td>40.782889</td>\n",
       "    </tr>\n",
       "  </tbody>\n",
       "</table>\n",
       "</div>"
      ],
      "text/plain": [
       "  Unique Squirrel ID       Age unique_squirrel_id        lat       long\n",
       "0      8A-AM-1013-06  Juvenile      8A-AM-1013-06 -73.977310  40.773805\n",
       "1      7H-PM-1006-07     Adult      7H-PM-1006-07 -73.970026  40.769934\n",
       "2      3G-PM-1013-03     Adult      3G-PM-1013-03 -73.974437  40.767428\n",
       "3     22F-AM-1007-07  Juvenile     22F-AM-1007-07 -73.964660  40.782770\n",
       "4     20A-PM-1017-01     Adult     20A-PM-1017-01 -73.970069  40.782889"
      ]
     },
     "execution_count": 11,
     "metadata": {},
     "output_type": "execute_result"
    }
   ],
   "source": [
    "# When column name do not match, use left_on = \"left_col_index\", right_on = \"right_col_idx\" to match the column ids\n",
    "# If dont go by this way below, will throw error\n",
    "age.merge(location, left_on='Unique Squirrel ID', right_on='unique_squirrel_id', how='inner')"
   ]
  },
  {
   "cell_type": "markdown",
   "metadata": {},
   "source": [
    "__Are we missing an observation?__"
   ]
  },
  {
   "cell_type": "code",
   "execution_count": null,
   "metadata": {},
   "outputs": [],
   "source": [
    "# Alternative syntax that does the same thing\n"
   ]
  },
  {
   "cell_type": "markdown",
   "metadata": {},
   "source": [
    "### What if we reverse the input order? What changes?"
   ]
  },
  {
   "cell_type": "code",
   "execution_count": 14,
   "metadata": {},
   "outputs": [
    {
     "data": {
      "text/html": [
       "<div>\n",
       "<style scoped>\n",
       "    .dataframe tbody tr th:only-of-type {\n",
       "        vertical-align: middle;\n",
       "    }\n",
       "\n",
       "    .dataframe tbody tr th {\n",
       "        vertical-align: top;\n",
       "    }\n",
       "\n",
       "    .dataframe thead th {\n",
       "        text-align: right;\n",
       "    }\n",
       "</style>\n",
       "<table border=\"1\" class=\"dataframe\">\n",
       "  <thead>\n",
       "    <tr style=\"text-align: right;\">\n",
       "      <th></th>\n",
       "      <th>Unique Squirrel ID</th>\n",
       "      <th>Primary Fur Color</th>\n",
       "      <th>Age</th>\n",
       "    </tr>\n",
       "  </thead>\n",
       "  <tbody>\n",
       "    <tr>\n",
       "      <th>0</th>\n",
       "      <td>20A-PM-1017-01</td>\n",
       "      <td>Gray</td>\n",
       "      <td>Adult</td>\n",
       "    </tr>\n",
       "    <tr>\n",
       "      <th>1</th>\n",
       "      <td>22F-AM-1007-07</td>\n",
       "      <td>Cinnamon</td>\n",
       "      <td>Juvenile</td>\n",
       "    </tr>\n",
       "    <tr>\n",
       "      <th>2</th>\n",
       "      <td>7H-PM-1006-07</td>\n",
       "      <td>Gray</td>\n",
       "      <td>Adult</td>\n",
       "    </tr>\n",
       "    <tr>\n",
       "      <th>3</th>\n",
       "      <td>3G-PM-1013-03</td>\n",
       "      <td>Gray</td>\n",
       "      <td>Adult</td>\n",
       "    </tr>\n",
       "  </tbody>\n",
       "</table>\n",
       "</div>"
      ],
      "text/plain": [
       "  Unique Squirrel ID Primary Fur Color       Age\n",
       "0     20A-PM-1017-01              Gray     Adult\n",
       "1     22F-AM-1007-07          Cinnamon  Juvenile\n",
       "2      7H-PM-1006-07              Gray     Adult\n",
       "3      3G-PM-1013-03              Gray     Adult"
      ]
     },
     "execution_count": 14,
     "metadata": {},
     "output_type": "execute_result"
    }
   ],
   "source": [
    "# pd.merge(left = ,\n",
    "#          right = ,\n",
    "#          on = \"Unique Squirrel ID\")\n",
    "color.merge(age, left_on=\"Unique Squirrel ID\", right_on=\"Unique Squirrel ID\", how='left')"
   ]
  },
  {
   "cell_type": "code",
   "execution_count": 15,
   "metadata": {},
   "outputs": [
    {
     "data": {
      "text/html": [
       "<div>\n",
       "<style scoped>\n",
       "    .dataframe tbody tr th:only-of-type {\n",
       "        vertical-align: middle;\n",
       "    }\n",
       "\n",
       "    .dataframe tbody tr th {\n",
       "        vertical-align: top;\n",
       "    }\n",
       "\n",
       "    .dataframe thead th {\n",
       "        text-align: right;\n",
       "    }\n",
       "</style>\n",
       "<table border=\"1\" class=\"dataframe\">\n",
       "  <thead>\n",
       "    <tr style=\"text-align: right;\">\n",
       "      <th></th>\n",
       "      <th>Unique Squirrel ID</th>\n",
       "      <th>Age</th>\n",
       "      <th>Primary Fur Color</th>\n",
       "    </tr>\n",
       "  </thead>\n",
       "  <tbody>\n",
       "    <tr>\n",
       "      <th>0</th>\n",
       "      <td>20A-PM-1017-01</td>\n",
       "      <td>Adult</td>\n",
       "      <td>Gray</td>\n",
       "    </tr>\n",
       "    <tr>\n",
       "      <th>1</th>\n",
       "      <td>22F-AM-1007-07</td>\n",
       "      <td>Juvenile</td>\n",
       "      <td>Cinnamon</td>\n",
       "    </tr>\n",
       "    <tr>\n",
       "      <th>2</th>\n",
       "      <td>7H-PM-1006-07</td>\n",
       "      <td>Adult</td>\n",
       "      <td>Gray</td>\n",
       "    </tr>\n",
       "    <tr>\n",
       "      <th>3</th>\n",
       "      <td>3G-PM-1013-03</td>\n",
       "      <td>Adult</td>\n",
       "      <td>Gray</td>\n",
       "    </tr>\n",
       "  </tbody>\n",
       "</table>\n",
       "</div>"
      ],
      "text/plain": [
       "  Unique Squirrel ID       Age Primary Fur Color\n",
       "0     20A-PM-1017-01     Adult              Gray\n",
       "1     22F-AM-1007-07  Juvenile          Cinnamon\n",
       "2      7H-PM-1006-07     Adult              Gray\n",
       "3      3G-PM-1013-03     Adult              Gray"
      ]
     },
     "execution_count": 15,
     "metadata": {},
     "output_type": "execute_result"
    }
   ],
   "source": [
    "age.merge(color, left_on=\"Unique Squirrel ID\", right_on=\"Unique Squirrel ID\", how='right')"
   ]
  },
  {
   "cell_type": "markdown",
   "metadata": {},
   "source": [
    "### What if I don't want the _intersection_ and, instead, I want to keep everything from the right table (i.e. `age`, the bigger one)?"
   ]
  },
  {
   "cell_type": "code",
   "execution_count": 16,
   "metadata": {},
   "outputs": [
    {
     "data": {
      "text/html": [
       "<div>\n",
       "<style scoped>\n",
       "    .dataframe tbody tr th:only-of-type {\n",
       "        vertical-align: middle;\n",
       "    }\n",
       "\n",
       "    .dataframe tbody tr th {\n",
       "        vertical-align: top;\n",
       "    }\n",
       "\n",
       "    .dataframe thead th {\n",
       "        text-align: right;\n",
       "    }\n",
       "</style>\n",
       "<table border=\"1\" class=\"dataframe\">\n",
       "  <thead>\n",
       "    <tr style=\"text-align: right;\">\n",
       "      <th></th>\n",
       "      <th>Unique Squirrel ID</th>\n",
       "      <th>Age</th>\n",
       "      <th>unique_squirrel_id</th>\n",
       "      <th>lat</th>\n",
       "      <th>long</th>\n",
       "    </tr>\n",
       "  </thead>\n",
       "  <tbody>\n",
       "    <tr>\n",
       "      <th>0</th>\n",
       "      <td>8A-AM-1013-06</td>\n",
       "      <td>Juvenile</td>\n",
       "      <td>8A-AM-1013-06</td>\n",
       "      <td>-73.977310</td>\n",
       "      <td>40.773805</td>\n",
       "    </tr>\n",
       "    <tr>\n",
       "      <th>1</th>\n",
       "      <td>7H-PM-1006-07</td>\n",
       "      <td>Adult</td>\n",
       "      <td>7H-PM-1006-07</td>\n",
       "      <td>-73.970026</td>\n",
       "      <td>40.769934</td>\n",
       "    </tr>\n",
       "    <tr>\n",
       "      <th>2</th>\n",
       "      <td>3G-PM-1013-03</td>\n",
       "      <td>Adult</td>\n",
       "      <td>3G-PM-1013-03</td>\n",
       "      <td>-73.974437</td>\n",
       "      <td>40.767428</td>\n",
       "    </tr>\n",
       "    <tr>\n",
       "      <th>3</th>\n",
       "      <td>22F-AM-1007-07</td>\n",
       "      <td>Juvenile</td>\n",
       "      <td>22F-AM-1007-07</td>\n",
       "      <td>-73.964660</td>\n",
       "      <td>40.782770</td>\n",
       "    </tr>\n",
       "    <tr>\n",
       "      <th>4</th>\n",
       "      <td>20A-PM-1017-01</td>\n",
       "      <td>Adult</td>\n",
       "      <td>20A-PM-1017-01</td>\n",
       "      <td>-73.970069</td>\n",
       "      <td>40.782889</td>\n",
       "    </tr>\n",
       "  </tbody>\n",
       "</table>\n",
       "</div>"
      ],
      "text/plain": [
       "  Unique Squirrel ID       Age unique_squirrel_id        lat       long\n",
       "0      8A-AM-1013-06  Juvenile      8A-AM-1013-06 -73.977310  40.773805\n",
       "1      7H-PM-1006-07     Adult      7H-PM-1006-07 -73.970026  40.769934\n",
       "2      3G-PM-1013-03     Adult      3G-PM-1013-03 -73.974437  40.767428\n",
       "3     22F-AM-1007-07  Juvenile     22F-AM-1007-07 -73.964660  40.782770\n",
       "4     20A-PM-1017-01     Adult     20A-PM-1017-01 -73.970069  40.782889"
      ]
     },
     "execution_count": 16,
     "metadata": {},
     "output_type": "execute_result"
    }
   ],
   "source": [
    "# pd.merge(left = color,\n",
    "#          right = age,\n",
    "#          how = \"right\",\n",
    "#          on = \"Unique Squirrel ID\")\n",
    "age.merge(location, left_on=\"Unique Squirrel ID\", right_on='unique_squirrel_id', how='inner')"
   ]
  },
  {
   "cell_type": "markdown",
   "metadata": {},
   "source": [
    "Using `how=\"right\"`, what's changed?"
   ]
  },
  {
   "cell_type": "markdown",
   "metadata": {},
   "source": [
    "### What if I have a dataframe with a _different_ name for the column I wish to join \"on\"?"
   ]
  },
  {
   "cell_type": "code",
   "execution_count": 12,
   "metadata": {},
   "outputs": [
    {
     "data": {
      "text/html": [
       "<div>\n",
       "<style scoped>\n",
       "    .dataframe tbody tr th:only-of-type {\n",
       "        vertical-align: middle;\n",
       "    }\n",
       "\n",
       "    .dataframe tbody tr th {\n",
       "        vertical-align: top;\n",
       "    }\n",
       "\n",
       "    .dataframe thead th {\n",
       "        text-align: right;\n",
       "    }\n",
       "</style>\n",
       "<table border=\"1\" class=\"dataframe\">\n",
       "  <thead>\n",
       "    <tr style=\"text-align: right;\">\n",
       "      <th></th>\n",
       "      <th>Unique Squirrel ID</th>\n",
       "      <th>Age</th>\n",
       "    </tr>\n",
       "  </thead>\n",
       "  <tbody>\n",
       "    <tr>\n",
       "      <th>0</th>\n",
       "      <td>8A-AM-1013-06</td>\n",
       "      <td>Juvenile</td>\n",
       "    </tr>\n",
       "    <tr>\n",
       "      <th>1</th>\n",
       "      <td>7H-PM-1006-07</td>\n",
       "      <td>Adult</td>\n",
       "    </tr>\n",
       "    <tr>\n",
       "      <th>2</th>\n",
       "      <td>3G-PM-1013-03</td>\n",
       "      <td>Adult</td>\n",
       "    </tr>\n",
       "    <tr>\n",
       "      <th>3</th>\n",
       "      <td>22F-AM-1007-07</td>\n",
       "      <td>Juvenile</td>\n",
       "    </tr>\n",
       "    <tr>\n",
       "      <th>4</th>\n",
       "      <td>20A-PM-1017-01</td>\n",
       "      <td>Adult</td>\n",
       "    </tr>\n",
       "  </tbody>\n",
       "</table>\n",
       "</div>"
      ],
      "text/plain": [
       "  Unique Squirrel ID       Age\n",
       "0      8A-AM-1013-06  Juvenile\n",
       "1      7H-PM-1006-07     Adult\n",
       "2      3G-PM-1013-03     Adult\n",
       "3     22F-AM-1007-07  Juvenile\n",
       "4     20A-PM-1017-01     Adult"
      ]
     },
     "execution_count": 12,
     "metadata": {},
     "output_type": "execute_result"
    }
   ],
   "source": [
    "age"
   ]
  },
  {
   "cell_type": "code",
   "execution_count": 13,
   "metadata": {},
   "outputs": [
    {
     "data": {
      "text/html": [
       "<div>\n",
       "<style scoped>\n",
       "    .dataframe tbody tr th:only-of-type {\n",
       "        vertical-align: middle;\n",
       "    }\n",
       "\n",
       "    .dataframe tbody tr th {\n",
       "        vertical-align: top;\n",
       "    }\n",
       "\n",
       "    .dataframe thead th {\n",
       "        text-align: right;\n",
       "    }\n",
       "</style>\n",
       "<table border=\"1\" class=\"dataframe\">\n",
       "  <thead>\n",
       "    <tr style=\"text-align: right;\">\n",
       "      <th></th>\n",
       "      <th>unique_squirrel_id</th>\n",
       "      <th>lat</th>\n",
       "      <th>long</th>\n",
       "    </tr>\n",
       "  </thead>\n",
       "  <tbody>\n",
       "    <tr>\n",
       "      <th>0</th>\n",
       "      <td>3G-PM-1013-03</td>\n",
       "      <td>-73.974437</td>\n",
       "      <td>40.767428</td>\n",
       "    </tr>\n",
       "    <tr>\n",
       "      <th>1</th>\n",
       "      <td>7H-PM-1006-07</td>\n",
       "      <td>-73.970026</td>\n",
       "      <td>40.769934</td>\n",
       "    </tr>\n",
       "    <tr>\n",
       "      <th>2</th>\n",
       "      <td>31F-AM-1013-01</td>\n",
       "      <td>-73.959687</td>\n",
       "      <td>40.789379</td>\n",
       "    </tr>\n",
       "    <tr>\n",
       "      <th>3</th>\n",
       "      <td>8A-AM-1013-06</td>\n",
       "      <td>-73.977310</td>\n",
       "      <td>40.773805</td>\n",
       "    </tr>\n",
       "    <tr>\n",
       "      <th>4</th>\n",
       "      <td>22F-AM-1007-07</td>\n",
       "      <td>-73.964660</td>\n",
       "      <td>40.782770</td>\n",
       "    </tr>\n",
       "    <tr>\n",
       "      <th>5</th>\n",
       "      <td>20A-PM-1017-01</td>\n",
       "      <td>-73.970069</td>\n",
       "      <td>40.782889</td>\n",
       "    </tr>\n",
       "  </tbody>\n",
       "</table>\n",
       "</div>"
      ],
      "text/plain": [
       "  unique_squirrel_id        lat       long\n",
       "0      3G-PM-1013-03 -73.974437  40.767428\n",
       "1      7H-PM-1006-07 -73.970026  40.769934\n",
       "2     31F-AM-1013-01 -73.959687  40.789379\n",
       "3      8A-AM-1013-06 -73.977310  40.773805\n",
       "4     22F-AM-1007-07 -73.964660  40.782770\n",
       "5     20A-PM-1017-01 -73.970069  40.782889"
      ]
     },
     "execution_count": 13,
     "metadata": {},
     "output_type": "execute_result"
    }
   ],
   "source": [
    "location"
   ]
  },
  {
   "cell_type": "code",
   "execution_count": null,
   "metadata": {},
   "outputs": [],
   "source": [
    "# This breaks...\n",
    "# pd.merge(left_on = age,\n",
    "#          right = location,\n",
    "#          on = \"Unique Squirrel ID\")"
   ]
  },
  {
   "cell_type": "code",
   "execution_count": null,
   "metadata": {},
   "outputs": [],
   "source": [
    "# This WORKS!\n",
    "# pd.merge(left = age,\n",
    "#          right = location,\n",
    "#          left_on = ,\n",
    "#          right_on = )"
   ]
  },
  {
   "cell_type": "markdown",
   "metadata": {},
   "source": [
    "We see some redundancy, which is working as expected...\n",
    "- You may have code that breaks if it expects some incoming datafame to have the specific column \"unique_squirrel_id\" in some place and \"Unique Squirrel ID\" in others"
   ]
  },
  {
   "cell_type": "markdown",
   "metadata": {},
   "source": [
    "## `.concat()`"
   ]
  },
  {
   "cell_type": "markdown",
   "metadata": {},
   "source": [
    "#### Concatenating by columns _(not recommended)_"
   ]
  },
  {
   "cell_type": "markdown",
   "metadata": {},
   "source": [
    "concat => stacking the dataframes tgt"
   ]
  },
  {
   "cell_type": "markdown",
   "metadata": {},
   "source": [
    "# axis 1 => by column, axis 0 => by row"
   ]
  },
  {
   "cell_type": "code",
   "execution_count": 23,
   "metadata": {},
   "outputs": [
    {
     "data": {
      "text/html": [
       "<div>\n",
       "<style scoped>\n",
       "    .dataframe tbody tr th:only-of-type {\n",
       "        vertical-align: middle;\n",
       "    }\n",
       "\n",
       "    .dataframe tbody tr th {\n",
       "        vertical-align: top;\n",
       "    }\n",
       "\n",
       "    .dataframe thead th {\n",
       "        text-align: right;\n",
       "    }\n",
       "</style>\n",
       "<table border=\"1\" class=\"dataframe\">\n",
       "  <thead>\n",
       "    <tr style=\"text-align: right;\">\n",
       "      <th></th>\n",
       "      <th>Unique Squirrel ID</th>\n",
       "      <th>Age</th>\n",
       "    </tr>\n",
       "  </thead>\n",
       "  <tbody>\n",
       "    <tr>\n",
       "      <th>0</th>\n",
       "      <td>8A-AM-1013-06</td>\n",
       "      <td>Juvenile</td>\n",
       "    </tr>\n",
       "  </tbody>\n",
       "</table>\n",
       "</div>"
      ],
      "text/plain": [
       "  Unique Squirrel ID       Age\n",
       "0      8A-AM-1013-06  Juvenile"
      ]
     },
     "execution_count": 23,
     "metadata": {},
     "output_type": "execute_result"
    }
   ],
   "source": [
    "# axis 1 => by column, axis 0 => by row\n",
    "df3 = pd.DataFrame([['8A-AM-1013-06', 'Juvenile']], columns=['Unique Squirrel ID',\t'Age'])\n",
    "df3"
   ]
  },
  {
   "cell_type": "code",
   "execution_count": 24,
   "metadata": {},
   "outputs": [
    {
     "data": {
      "text/html": [
       "<div>\n",
       "<style scoped>\n",
       "    .dataframe tbody tr th:only-of-type {\n",
       "        vertical-align: middle;\n",
       "    }\n",
       "\n",
       "    .dataframe tbody tr th {\n",
       "        vertical-align: top;\n",
       "    }\n",
       "\n",
       "    .dataframe thead th {\n",
       "        text-align: right;\n",
       "    }\n",
       "</style>\n",
       "<table border=\"1\" class=\"dataframe\">\n",
       "  <thead>\n",
       "    <tr style=\"text-align: right;\">\n",
       "      <th></th>\n",
       "      <th>Unique Squirrel ID</th>\n",
       "      <th>Age</th>\n",
       "    </tr>\n",
       "  </thead>\n",
       "  <tbody>\n",
       "    <tr>\n",
       "      <th>0</th>\n",
       "      <td>8A-AM-1013-06</td>\n",
       "      <td>Juvenile</td>\n",
       "    </tr>\n",
       "    <tr>\n",
       "      <th>1</th>\n",
       "      <td>7H-PM-1006-07</td>\n",
       "      <td>Adult</td>\n",
       "    </tr>\n",
       "    <tr>\n",
       "      <th>2</th>\n",
       "      <td>3G-PM-1013-03</td>\n",
       "      <td>Adult</td>\n",
       "    </tr>\n",
       "    <tr>\n",
       "      <th>3</th>\n",
       "      <td>22F-AM-1007-07</td>\n",
       "      <td>Juvenile</td>\n",
       "    </tr>\n",
       "    <tr>\n",
       "      <th>4</th>\n",
       "      <td>20A-PM-1017-01</td>\n",
       "      <td>Adult</td>\n",
       "    </tr>\n",
       "    <tr>\n",
       "      <th>0</th>\n",
       "      <td>8A-AM-1013-06</td>\n",
       "      <td>Juvenile</td>\n",
       "    </tr>\n",
       "  </tbody>\n",
       "</table>\n",
       "</div>"
      ],
      "text/plain": [
       "  Unique Squirrel ID       Age\n",
       "0      8A-AM-1013-06  Juvenile\n",
       "1      7H-PM-1006-07     Adult\n",
       "2      3G-PM-1013-03     Adult\n",
       "3     22F-AM-1007-07  Juvenile\n",
       "4     20A-PM-1017-01     Adult\n",
       "0      8A-AM-1013-06  Juvenile"
      ]
     },
     "execution_count": 24,
     "metadata": {},
     "output_type": "execute_result"
    }
   ],
   "source": [
    "pd.concat(objs=[age, df3], axis=0)"
   ]
  },
  {
   "cell_type": "code",
   "execution_count": 32,
   "metadata": {},
   "outputs": [
    {
     "data": {
      "text/html": [
       "<div>\n",
       "<style scoped>\n",
       "    .dataframe tbody tr th:only-of-type {\n",
       "        vertical-align: middle;\n",
       "    }\n",
       "\n",
       "    .dataframe tbody tr th {\n",
       "        vertical-align: top;\n",
       "    }\n",
       "\n",
       "    .dataframe thead th {\n",
       "        text-align: right;\n",
       "    }\n",
       "</style>\n",
       "<table border=\"1\" class=\"dataframe\">\n",
       "  <thead>\n",
       "    <tr style=\"text-align: right;\">\n",
       "      <th></th>\n",
       "      <th>Unique Squirrel ID</th>\n",
       "      <th>Age</th>\n",
       "    </tr>\n",
       "  </thead>\n",
       "  <tbody>\n",
       "    <tr>\n",
       "      <th>0</th>\n",
       "      <td>8A-AM-1013-06</td>\n",
       "      <td>Juvenile</td>\n",
       "    </tr>\n",
       "    <tr>\n",
       "      <th>1</th>\n",
       "      <td>7H-PM-1006-07</td>\n",
       "      <td>Adult</td>\n",
       "    </tr>\n",
       "    <tr>\n",
       "      <th>2</th>\n",
       "      <td>3G-PM-1013-03</td>\n",
       "      <td>Adult</td>\n",
       "    </tr>\n",
       "    <tr>\n",
       "      <th>3</th>\n",
       "      <td>22F-AM-1007-07</td>\n",
       "      <td>Juvenile</td>\n",
       "    </tr>\n",
       "    <tr>\n",
       "      <th>4</th>\n",
       "      <td>20A-PM-1017-01</td>\n",
       "      <td>Adult</td>\n",
       "    </tr>\n",
       "    <tr>\n",
       "      <th>5</th>\n",
       "      <td>8A-AM-1013-06</td>\n",
       "      <td>Juvenile</td>\n",
       "    </tr>\n",
       "  </tbody>\n",
       "</table>\n",
       "</div>"
      ],
      "text/plain": [
       "  Unique Squirrel ID       Age\n",
       "0      8A-AM-1013-06  Juvenile\n",
       "1      7H-PM-1006-07     Adult\n",
       "2      3G-PM-1013-03     Adult\n",
       "3     22F-AM-1007-07  Juvenile\n",
       "4     20A-PM-1017-01     Adult\n",
       "5      8A-AM-1013-06  Juvenile"
      ]
     },
     "execution_count": 32,
     "metadata": {},
     "output_type": "execute_result"
    }
   ],
   "source": [
    "#to reset the index\n",
    "pd.concat(objs=[age, df3], axis=0, ignore_index=True)\n",
    "# pd.concat(objs=[age, df3], axis=0).reset_index(drop=True)"
   ]
  },
  {
   "cell_type": "code",
   "execution_count": null,
   "metadata": {},
   "outputs": [],
   "source": [
    "# if colmuns do not match, it will be subsitituded by NaN"
   ]
  },
  {
   "cell_type": "markdown",
   "metadata": {},
   "source": [
    "Notice how we can concatenate two dataframes without the same number of rows, but...\n",
    "- The overlap is filled with `NaN` values"
   ]
  },
  {
   "cell_type": "markdown",
   "metadata": {},
   "source": [
    "### Can we `.concat()` more than 2 dataframes?"
   ]
  },
  {
   "cell_type": "code",
   "execution_count": 33,
   "metadata": {},
   "outputs": [
    {
     "data": {
      "text/html": [
       "<div>\n",
       "<style scoped>\n",
       "    .dataframe tbody tr th:only-of-type {\n",
       "        vertical-align: middle;\n",
       "    }\n",
       "\n",
       "    .dataframe tbody tr th {\n",
       "        vertical-align: top;\n",
       "    }\n",
       "\n",
       "    .dataframe thead th {\n",
       "        text-align: right;\n",
       "    }\n",
       "</style>\n",
       "<table border=\"1\" class=\"dataframe\">\n",
       "  <thead>\n",
       "    <tr style=\"text-align: right;\">\n",
       "      <th></th>\n",
       "      <th>Unique Squirrel ID</th>\n",
       "      <th>Age</th>\n",
       "      <th>Primary Fur Color</th>\n",
       "      <th>unique_squirrel_id</th>\n",
       "      <th>lat</th>\n",
       "      <th>long</th>\n",
       "    </tr>\n",
       "  </thead>\n",
       "  <tbody>\n",
       "    <tr>\n",
       "      <th>0</th>\n",
       "      <td>8A-AM-1013-06</td>\n",
       "      <td>Juvenile</td>\n",
       "      <td>NaN</td>\n",
       "      <td>NaN</td>\n",
       "      <td>NaN</td>\n",
       "      <td>NaN</td>\n",
       "    </tr>\n",
       "    <tr>\n",
       "      <th>1</th>\n",
       "      <td>7H-PM-1006-07</td>\n",
       "      <td>Adult</td>\n",
       "      <td>NaN</td>\n",
       "      <td>NaN</td>\n",
       "      <td>NaN</td>\n",
       "      <td>NaN</td>\n",
       "    </tr>\n",
       "    <tr>\n",
       "      <th>2</th>\n",
       "      <td>3G-PM-1013-03</td>\n",
       "      <td>Adult</td>\n",
       "      <td>NaN</td>\n",
       "      <td>NaN</td>\n",
       "      <td>NaN</td>\n",
       "      <td>NaN</td>\n",
       "    </tr>\n",
       "    <tr>\n",
       "      <th>3</th>\n",
       "      <td>22F-AM-1007-07</td>\n",
       "      <td>Juvenile</td>\n",
       "      <td>NaN</td>\n",
       "      <td>NaN</td>\n",
       "      <td>NaN</td>\n",
       "      <td>NaN</td>\n",
       "    </tr>\n",
       "    <tr>\n",
       "      <th>4</th>\n",
       "      <td>20A-PM-1017-01</td>\n",
       "      <td>Adult</td>\n",
       "      <td>NaN</td>\n",
       "      <td>NaN</td>\n",
       "      <td>NaN</td>\n",
       "      <td>NaN</td>\n",
       "    </tr>\n",
       "    <tr>\n",
       "      <th>5</th>\n",
       "      <td>20A-PM-1017-01</td>\n",
       "      <td>NaN</td>\n",
       "      <td>Gray</td>\n",
       "      <td>NaN</td>\n",
       "      <td>NaN</td>\n",
       "      <td>NaN</td>\n",
       "    </tr>\n",
       "    <tr>\n",
       "      <th>6</th>\n",
       "      <td>22F-AM-1007-07</td>\n",
       "      <td>NaN</td>\n",
       "      <td>Cinnamon</td>\n",
       "      <td>NaN</td>\n",
       "      <td>NaN</td>\n",
       "      <td>NaN</td>\n",
       "    </tr>\n",
       "    <tr>\n",
       "      <th>7</th>\n",
       "      <td>7H-PM-1006-07</td>\n",
       "      <td>NaN</td>\n",
       "      <td>Gray</td>\n",
       "      <td>NaN</td>\n",
       "      <td>NaN</td>\n",
       "      <td>NaN</td>\n",
       "    </tr>\n",
       "    <tr>\n",
       "      <th>8</th>\n",
       "      <td>3G-PM-1013-03</td>\n",
       "      <td>NaN</td>\n",
       "      <td>Gray</td>\n",
       "      <td>NaN</td>\n",
       "      <td>NaN</td>\n",
       "      <td>NaN</td>\n",
       "    </tr>\n",
       "    <tr>\n",
       "      <th>9</th>\n",
       "      <td>NaN</td>\n",
       "      <td>NaN</td>\n",
       "      <td>NaN</td>\n",
       "      <td>3G-PM-1013-03</td>\n",
       "      <td>-73.974437</td>\n",
       "      <td>40.767428</td>\n",
       "    </tr>\n",
       "    <tr>\n",
       "      <th>10</th>\n",
       "      <td>NaN</td>\n",
       "      <td>NaN</td>\n",
       "      <td>NaN</td>\n",
       "      <td>7H-PM-1006-07</td>\n",
       "      <td>-73.970026</td>\n",
       "      <td>40.769934</td>\n",
       "    </tr>\n",
       "    <tr>\n",
       "      <th>11</th>\n",
       "      <td>NaN</td>\n",
       "      <td>NaN</td>\n",
       "      <td>NaN</td>\n",
       "      <td>31F-AM-1013-01</td>\n",
       "      <td>-73.959687</td>\n",
       "      <td>40.789379</td>\n",
       "    </tr>\n",
       "    <tr>\n",
       "      <th>12</th>\n",
       "      <td>NaN</td>\n",
       "      <td>NaN</td>\n",
       "      <td>NaN</td>\n",
       "      <td>8A-AM-1013-06</td>\n",
       "      <td>-73.977310</td>\n",
       "      <td>40.773805</td>\n",
       "    </tr>\n",
       "    <tr>\n",
       "      <th>13</th>\n",
       "      <td>NaN</td>\n",
       "      <td>NaN</td>\n",
       "      <td>NaN</td>\n",
       "      <td>22F-AM-1007-07</td>\n",
       "      <td>-73.964660</td>\n",
       "      <td>40.782770</td>\n",
       "    </tr>\n",
       "    <tr>\n",
       "      <th>14</th>\n",
       "      <td>NaN</td>\n",
       "      <td>NaN</td>\n",
       "      <td>NaN</td>\n",
       "      <td>20A-PM-1017-01</td>\n",
       "      <td>-73.970069</td>\n",
       "      <td>40.782889</td>\n",
       "    </tr>\n",
       "  </tbody>\n",
       "</table>\n",
       "</div>"
      ],
      "text/plain": [
       "   Unique Squirrel ID       Age Primary Fur Color unique_squirrel_id  \\\n",
       "0       8A-AM-1013-06  Juvenile               NaN                NaN   \n",
       "1       7H-PM-1006-07     Adult               NaN                NaN   \n",
       "2       3G-PM-1013-03     Adult               NaN                NaN   \n",
       "3      22F-AM-1007-07  Juvenile               NaN                NaN   \n",
       "4      20A-PM-1017-01     Adult               NaN                NaN   \n",
       "5      20A-PM-1017-01       NaN              Gray                NaN   \n",
       "6      22F-AM-1007-07       NaN          Cinnamon                NaN   \n",
       "7       7H-PM-1006-07       NaN              Gray                NaN   \n",
       "8       3G-PM-1013-03       NaN              Gray                NaN   \n",
       "9                 NaN       NaN               NaN      3G-PM-1013-03   \n",
       "10                NaN       NaN               NaN      7H-PM-1006-07   \n",
       "11                NaN       NaN               NaN     31F-AM-1013-01   \n",
       "12                NaN       NaN               NaN      8A-AM-1013-06   \n",
       "13                NaN       NaN               NaN     22F-AM-1007-07   \n",
       "14                NaN       NaN               NaN     20A-PM-1017-01   \n",
       "\n",
       "          lat       long  \n",
       "0         NaN        NaN  \n",
       "1         NaN        NaN  \n",
       "2         NaN        NaN  \n",
       "3         NaN        NaN  \n",
       "4         NaN        NaN  \n",
       "5         NaN        NaN  \n",
       "6         NaN        NaN  \n",
       "7         NaN        NaN  \n",
       "8         NaN        NaN  \n",
       "9  -73.974437  40.767428  \n",
       "10 -73.970026  40.769934  \n",
       "11 -73.959687  40.789379  \n",
       "12 -73.977310  40.773805  \n",
       "13 -73.964660  40.782770  \n",
       "14 -73.970069  40.782889  "
      ]
     },
     "execution_count": 33,
     "metadata": {},
     "output_type": "execute_result"
    }
   ],
   "source": [
    "pd.concat(objs=[age, color, location], axis=0, ignore_index=True)"
   ]
  },
  {
   "cell_type": "code",
   "execution_count": 35,
   "metadata": {},
   "outputs": [
    {
     "data": {
      "text/html": [
       "<div>\n",
       "<style scoped>\n",
       "    .dataframe tbody tr th:only-of-type {\n",
       "        vertical-align: middle;\n",
       "    }\n",
       "\n",
       "    .dataframe tbody tr th {\n",
       "        vertical-align: top;\n",
       "    }\n",
       "\n",
       "    .dataframe thead th {\n",
       "        text-align: right;\n",
       "    }\n",
       "</style>\n",
       "<table border=\"1\" class=\"dataframe\">\n",
       "  <thead>\n",
       "    <tr style=\"text-align: right;\">\n",
       "      <th></th>\n",
       "      <th>Unique Squirrel ID</th>\n",
       "      <th>Age</th>\n",
       "      <th>Unique Squirrel ID</th>\n",
       "      <th>Primary Fur Color</th>\n",
       "      <th>unique_squirrel_id</th>\n",
       "      <th>lat</th>\n",
       "      <th>long</th>\n",
       "    </tr>\n",
       "  </thead>\n",
       "  <tbody>\n",
       "    <tr>\n",
       "      <th>0</th>\n",
       "      <td>8A-AM-1013-06</td>\n",
       "      <td>Juvenile</td>\n",
       "      <td>20A-PM-1017-01</td>\n",
       "      <td>Gray</td>\n",
       "      <td>3G-PM-1013-03</td>\n",
       "      <td>-73.974437</td>\n",
       "      <td>40.767428</td>\n",
       "    </tr>\n",
       "    <tr>\n",
       "      <th>1</th>\n",
       "      <td>7H-PM-1006-07</td>\n",
       "      <td>Adult</td>\n",
       "      <td>22F-AM-1007-07</td>\n",
       "      <td>Cinnamon</td>\n",
       "      <td>7H-PM-1006-07</td>\n",
       "      <td>-73.970026</td>\n",
       "      <td>40.769934</td>\n",
       "    </tr>\n",
       "    <tr>\n",
       "      <th>2</th>\n",
       "      <td>3G-PM-1013-03</td>\n",
       "      <td>Adult</td>\n",
       "      <td>7H-PM-1006-07</td>\n",
       "      <td>Gray</td>\n",
       "      <td>31F-AM-1013-01</td>\n",
       "      <td>-73.959687</td>\n",
       "      <td>40.789379</td>\n",
       "    </tr>\n",
       "    <tr>\n",
       "      <th>3</th>\n",
       "      <td>22F-AM-1007-07</td>\n",
       "      <td>Juvenile</td>\n",
       "      <td>3G-PM-1013-03</td>\n",
       "      <td>Gray</td>\n",
       "      <td>8A-AM-1013-06</td>\n",
       "      <td>-73.977310</td>\n",
       "      <td>40.773805</td>\n",
       "    </tr>\n",
       "    <tr>\n",
       "      <th>4</th>\n",
       "      <td>20A-PM-1017-01</td>\n",
       "      <td>Adult</td>\n",
       "      <td>NaN</td>\n",
       "      <td>NaN</td>\n",
       "      <td>22F-AM-1007-07</td>\n",
       "      <td>-73.964660</td>\n",
       "      <td>40.782770</td>\n",
       "    </tr>\n",
       "    <tr>\n",
       "      <th>5</th>\n",
       "      <td>NaN</td>\n",
       "      <td>NaN</td>\n",
       "      <td>NaN</td>\n",
       "      <td>NaN</td>\n",
       "      <td>20A-PM-1017-01</td>\n",
       "      <td>-73.970069</td>\n",
       "      <td>40.782889</td>\n",
       "    </tr>\n",
       "  </tbody>\n",
       "</table>\n",
       "</div>"
      ],
      "text/plain": [
       "  Unique Squirrel ID       Age Unique Squirrel ID Primary Fur Color  \\\n",
       "0      8A-AM-1013-06  Juvenile     20A-PM-1017-01              Gray   \n",
       "1      7H-PM-1006-07     Adult     22F-AM-1007-07          Cinnamon   \n",
       "2      3G-PM-1013-03     Adult      7H-PM-1006-07              Gray   \n",
       "3     22F-AM-1007-07  Juvenile      3G-PM-1013-03              Gray   \n",
       "4     20A-PM-1017-01     Adult                NaN               NaN   \n",
       "5                NaN       NaN                NaN               NaN   \n",
       "\n",
       "  unique_squirrel_id        lat       long  \n",
       "0      3G-PM-1013-03 -73.974437  40.767428  \n",
       "1      7H-PM-1006-07 -73.970026  40.769934  \n",
       "2     31F-AM-1013-01 -73.959687  40.789379  \n",
       "3      8A-AM-1013-06 -73.977310  40.773805  \n",
       "4     22F-AM-1007-07 -73.964660  40.782770  \n",
       "5     20A-PM-1017-01 -73.970069  40.782889  "
      ]
     },
     "execution_count": 35,
     "metadata": {},
     "output_type": "execute_result"
    }
   ],
   "source": [
    "pd.concat(objs=[age, color, location], axis=1)"
   ]
  },
  {
   "cell_type": "markdown",
   "metadata": {},
   "source": [
    "#### Concatenating by rows _(useful)_"
   ]
  },
  {
   "cell_type": "code",
   "execution_count": null,
   "metadata": {},
   "outputs": [],
   "source": [
    "# Creating a new data point (row)\n",
    "new_datapoint = pd.DataFrame(data = [['8A-AM-1013-06', \"Cinnamon\"]],\n",
    "                             columns = ['Unique Squirrel ID', 'Primary Fur Color'])\n"
   ]
  },
  {
   "cell_type": "code",
   "execution_count": null,
   "metadata": {},
   "outputs": [],
   "source": [
    "new_datapoint"
   ]
  },
  {
   "cell_type": "code",
   "execution_count": null,
   "metadata": {},
   "outputs": [],
   "source": [
    "# Concatenate new datapoint to existing dataframe\n",
    "new_color = pd.concat(objs = [color, new_datapoint], axis = 0)\n",
    "new_color"
   ]
  },
  {
   "cell_type": "markdown",
   "metadata": {},
   "source": [
    "__Is there anything odd about this new dataframe?__"
   ]
  },
  {
   "cell_type": "code",
   "execution_count": null,
   "metadata": {},
   "outputs": [],
   "source": [
    "# Reset index\n"
   ]
  },
  {
   "cell_type": "code",
   "execution_count": null,
   "metadata": {},
   "outputs": [],
   "source": []
  },
  {
   "cell_type": "code",
   "execution_count": null,
   "metadata": {},
   "outputs": [],
   "source": []
  },
  {
   "cell_type": "code",
   "execution_count": null,
   "metadata": {},
   "outputs": [],
   "source": [
    "new_color"
   ]
  },
  {
   "cell_type": "markdown",
   "metadata": {},
   "source": [
    "## References\n",
    "- [Central Park Squirrel Census](https://data.cityofnewyork.us/Environment/2018-Central-Park-Squirrel-Census-Squirrel-Data/vfnx-vebw)"
   ]
  }
 ],
 "metadata": {
  "kernelspec": {
   "display_name": "Python [conda env:dsi-sg]",
   "language": "python",
   "name": "conda-env-dsi-sg-py"
  },
  "language_info": {
   "codemirror_mode": {
    "name": "ipython",
    "version": 3
   },
   "file_extension": ".py",
   "mimetype": "text/x-python",
   "name": "python",
   "nbconvert_exporter": "python",
   "pygments_lexer": "ipython3",
   "version": "3.9.13"
  }
 },
 "nbformat": 4,
 "nbformat_minor": 4
}
